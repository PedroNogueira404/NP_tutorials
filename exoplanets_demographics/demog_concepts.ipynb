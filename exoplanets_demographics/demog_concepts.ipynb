{
 "cells": [
  {
   "cell_type": "markdown",
   "id": "f9ab7bf8",
   "metadata": {},
   "source": [
    "# Basic concepts\n",
    "\n",
    "-> Occurrence =  Number of planets / Number of stars\n",
    "- For occurrence:\n",
    "1. Select stars (Teff,  brightness, logg)\n",
    "2. Select planets (period,  R) - planet catalogs\n",
    "3.  Correct for incompleteness\n",
    "    - transit geometries\n",
    "    - noisy stars (CDPP)\n",
    "    - pipeline incompleteness\n",
    "4. Calculate planet occurrence in a bin (e.g. range $R_{p}$ period)"
   ]
  },
  {
   "cell_type": "code",
   "execution_count": 8,
   "id": "861af427",
   "metadata": {},
   "outputs": [
    {
     "name": "stdout",
     "output_type": "stream",
     "text": [
      "31.78284065946748 earthMass\n"
     ]
    }
   ],
   "source": [
    "import astropy.units as u\n",
    "print((0.1*u.M_jup).to('M_earth'))\n"
   ]
  },
  {
   "cell_type": "markdown",
   "id": "71297fbc",
   "metadata": {},
   "source": []
  }
 ],
 "metadata": {
  "kernelspec": {
   "display_name": "base",
   "language": "python",
   "name": "python3"
  },
  "language_info": {
   "codemirror_mode": {
    "name": "ipython",
    "version": 3
   },
   "file_extension": ".py",
   "mimetype": "text/x-python",
   "name": "python",
   "nbconvert_exporter": "python",
   "pygments_lexer": "ipython3",
   "version": "3.11.13"
  }
 },
 "nbformat": 4,
 "nbformat_minor": 5
}
