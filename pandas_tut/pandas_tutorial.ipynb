{
 "cells": [
  {
   "cell_type": "markdown",
   "id": "d66f5fd1",
   "metadata": {},
   "source": [
    "## Open tables"
   ]
  },
  {
   "cell_type": "code",
   "execution_count": null,
   "id": "060679a2",
   "metadata": {},
   "outputs": [
    {
     "name": "stdout",
     "output_type": "stream",
     "text": [
      "/home/pnogueira/chewiepoint/jupyter_tutorials\n"
     ]
    },
    {
     "data": {
      "application/vnd.microsoft.datawrangler.viewer.v0+json": {
       "columns": [
        {
         "name": "index",
         "rawType": "int64",
         "type": "integer"
        },
        {
         "name": "id",
         "rawType": "int64",
         "type": "integer"
        },
        {
         "name": "field",
         "rawType": "object",
         "type": "string"
        },
        {
         "name": "beam_pa",
         "rawType": "float64",
         "type": "float"
        },
        {
         "name": "beam_maj",
         "rawType": "float64",
         "type": "float"
        },
        {
         "name": "beam_min",
         "rawType": "float64",
         "type": "float"
        },
        {
         "name": "center_x",
         "rawType": "object",
         "type": "string"
        },
        {
         "name": "center_y",
         "rawType": "object",
         "type": "string"
        },
        {
         "name": "Distance",
         "rawType": "float64",
         "type": "float"
        },
        {
         "name": "Rmax_frank",
         "rawType": "float64",
         "type": "float"
        },
        {
         "name": "B8_Flux",
         "rawType": "float64",
         "type": "float"
        },
        {
         "name": "isbinary",
         "rawType": "int64",
         "type": "integer"
        },
        {
         "name": "rms_data",
         "rawType": "float64",
         "type": "float"
        },
        {
         "name": "rms_model_profile",
         "rawType": "float64",
         "type": "float"
        },
        {
         "name": "Class",
         "rawType": "object",
         "type": "string"
        },
        {
         "name": "Features",
         "rawType": "object",
         "type": "string"
        },
        {
         "name": "R_zoom",
         "rawType": "float64",
         "type": "float"
        },
        {
         "name": "rms_model_percentage",
         "rawType": "float64",
         "type": "float"
        },
        {
         "name": "Stage",
         "rawType": "int64",
         "type": "integer"
        }
       ],
       "ref": "8207f733-9c5b-4ee8-b75c-728232b13575",
       "rows": [
        [
         "96",
         "96",
         "ODISEA_C4_75",
         "-89.70007",
         "0.19706",
         "0.14994",
         "16:27:13.808",
         "-24.43.32.129",
         "145.45",
         "0.5",
         "76.2",
         "0",
         "0.00027",
         "343110841.630221",
         "II",
         "Cavity",
         "0.5",
         "0.006975858159329",
         "4"
        ],
        [
         "97",
         "97",
         "ODISEA_C4_83",
         "89.5314",
         "0.19257",
         "0.1495",
         "16:27:18.367",
         "-24.39.15.309",
         "139.4",
         "1.5",
         "100.9",
         "0",
         "0.00025",
         "326059491.967308",
         "I",
         "Gap",
         "0.5",
         "0.004243236950377",
         "2"
        ],
        [
         "98",
         "98",
         "ODISEA_C4_85",
         "-89.49841",
         "0.1934",
         "0.14966",
         "16:27:19.198",
         "-24.28.44.499",
         "139.4",
         "0.5",
         "80.7",
         "0",
         "0.00027",
         "350258122.561454",
         "F",
         "Smooth",
         "0.4",
         "0.001876529968062",
         "0"
        ],
        [
         "99",
         "99",
         "ODISEA_C4_98",
         "-89.94412",
         "0.19418",
         "0.14971",
         "16:27:33.100",
         "-24.41.15.799",
         "137.85",
         "0.5",
         "82.3",
         "0",
         "0.00027",
         "348734664.695502",
         "II",
         "Smooth",
         "0.5",
         "0.001973217761342",
         "0"
        ],
        [
         "100",
         "100",
         "RA162813.74",
         "-87.93645",
         "0.20512",
         "0.14905",
         "16:28:13.692",
         "-24.31.39.587",
         "139.4",
         "1.5",
         "93.5",
         "0",
         "0.00027",
         "331596881.733055",
         "II",
         "Gap",
         "1.5",
         "0.029958290385349",
         "2"
        ]
       ],
       "shape": {
        "columns": 18,
        "rows": 5
       }
      },
      "text/html": [
       "<div>\n",
       "<style scoped>\n",
       "    .dataframe tbody tr th:only-of-type {\n",
       "        vertical-align: middle;\n",
       "    }\n",
       "\n",
       "    .dataframe tbody tr th {\n",
       "        vertical-align: top;\n",
       "    }\n",
       "\n",
       "    .dataframe thead th {\n",
       "        text-align: right;\n",
       "    }\n",
       "</style>\n",
       "<table border=\"1\" class=\"dataframe\">\n",
       "  <thead>\n",
       "    <tr style=\"text-align: right;\">\n",
       "      <th></th>\n",
       "      <th>id</th>\n",
       "      <th>field</th>\n",
       "      <th>beam_pa</th>\n",
       "      <th>beam_maj</th>\n",
       "      <th>beam_min</th>\n",
       "      <th>center_x</th>\n",
       "      <th>center_y</th>\n",
       "      <th>Distance</th>\n",
       "      <th>Rmax_frank</th>\n",
       "      <th>B8_Flux</th>\n",
       "      <th>isbinary</th>\n",
       "      <th>rms_data</th>\n",
       "      <th>rms_model_profile</th>\n",
       "      <th>Class</th>\n",
       "      <th>Features</th>\n",
       "      <th>R_zoom</th>\n",
       "      <th>rms_model_percentage</th>\n",
       "      <th>Stage</th>\n",
       "    </tr>\n",
       "  </thead>\n",
       "  <tbody>\n",
       "    <tr>\n",
       "      <th>96</th>\n",
       "      <td>96</td>\n",
       "      <td>ODISEA_C4_75</td>\n",
       "      <td>-89.70007</td>\n",
       "      <td>0.19706</td>\n",
       "      <td>0.14994</td>\n",
       "      <td>16:27:13.808</td>\n",
       "      <td>-24.43.32.129</td>\n",
       "      <td>145.45</td>\n",
       "      <td>0.5</td>\n",
       "      <td>76.2</td>\n",
       "      <td>0</td>\n",
       "      <td>0.00027</td>\n",
       "      <td>3.431108e+08</td>\n",
       "      <td>II</td>\n",
       "      <td>Cavity</td>\n",
       "      <td>0.5</td>\n",
       "      <td>0.006976</td>\n",
       "      <td>4</td>\n",
       "    </tr>\n",
       "    <tr>\n",
       "      <th>97</th>\n",
       "      <td>97</td>\n",
       "      <td>ODISEA_C4_83</td>\n",
       "      <td>89.53140</td>\n",
       "      <td>0.19257</td>\n",
       "      <td>0.14950</td>\n",
       "      <td>16:27:18.367</td>\n",
       "      <td>-24.39.15.309</td>\n",
       "      <td>139.40</td>\n",
       "      <td>1.5</td>\n",
       "      <td>100.9</td>\n",
       "      <td>0</td>\n",
       "      <td>0.00025</td>\n",
       "      <td>3.260595e+08</td>\n",
       "      <td>I</td>\n",
       "      <td>Gap</td>\n",
       "      <td>0.5</td>\n",
       "      <td>0.004243</td>\n",
       "      <td>2</td>\n",
       "    </tr>\n",
       "    <tr>\n",
       "      <th>98</th>\n",
       "      <td>98</td>\n",
       "      <td>ODISEA_C4_85</td>\n",
       "      <td>-89.49841</td>\n",
       "      <td>0.19340</td>\n",
       "      <td>0.14966</td>\n",
       "      <td>16:27:19.198</td>\n",
       "      <td>-24.28.44.499</td>\n",
       "      <td>139.40</td>\n",
       "      <td>0.5</td>\n",
       "      <td>80.7</td>\n",
       "      <td>0</td>\n",
       "      <td>0.00027</td>\n",
       "      <td>3.502581e+08</td>\n",
       "      <td>F</td>\n",
       "      <td>Smooth</td>\n",
       "      <td>0.4</td>\n",
       "      <td>0.001877</td>\n",
       "      <td>0</td>\n",
       "    </tr>\n",
       "    <tr>\n",
       "      <th>99</th>\n",
       "      <td>99</td>\n",
       "      <td>ODISEA_C4_98</td>\n",
       "      <td>-89.94412</td>\n",
       "      <td>0.19418</td>\n",
       "      <td>0.14971</td>\n",
       "      <td>16:27:33.100</td>\n",
       "      <td>-24.41.15.799</td>\n",
       "      <td>137.85</td>\n",
       "      <td>0.5</td>\n",
       "      <td>82.3</td>\n",
       "      <td>0</td>\n",
       "      <td>0.00027</td>\n",
       "      <td>3.487347e+08</td>\n",
       "      <td>II</td>\n",
       "      <td>Smooth</td>\n",
       "      <td>0.5</td>\n",
       "      <td>0.001973</td>\n",
       "      <td>0</td>\n",
       "    </tr>\n",
       "    <tr>\n",
       "      <th>100</th>\n",
       "      <td>100</td>\n",
       "      <td>RA162813.74</td>\n",
       "      <td>-87.93645</td>\n",
       "      <td>0.20512</td>\n",
       "      <td>0.14905</td>\n",
       "      <td>16:28:13.692</td>\n",
       "      <td>-24.31.39.587</td>\n",
       "      <td>139.40</td>\n",
       "      <td>1.5</td>\n",
       "      <td>93.5</td>\n",
       "      <td>0</td>\n",
       "      <td>0.00027</td>\n",
       "      <td>3.315969e+08</td>\n",
       "      <td>II</td>\n",
       "      <td>Gap</td>\n",
       "      <td>1.5</td>\n",
       "      <td>0.029958</td>\n",
       "      <td>2</td>\n",
       "    </tr>\n",
       "  </tbody>\n",
       "</table>\n",
       "</div>"
      ],
      "text/plain": [
       "      id         field   beam_pa  beam_maj  beam_min      center_x  \\\n",
       "96    96  ODISEA_C4_75 -89.70007   0.19706   0.14994  16:27:13.808   \n",
       "97    97  ODISEA_C4_83  89.53140   0.19257   0.14950  16:27:18.367   \n",
       "98    98  ODISEA_C4_85 -89.49841   0.19340   0.14966  16:27:19.198   \n",
       "99    99  ODISEA_C4_98 -89.94412   0.19418   0.14971  16:27:33.100   \n",
       "100  100   RA162813.74 -87.93645   0.20512   0.14905  16:28:13.692   \n",
       "\n",
       "          center_y  Distance  Rmax_frank  B8_Flux  isbinary  rms_data  \\\n",
       "96   -24.43.32.129    145.45         0.5     76.2         0   0.00027   \n",
       "97   -24.39.15.309    139.40         1.5    100.9         0   0.00025   \n",
       "98   -24.28.44.499    139.40         0.5     80.7         0   0.00027   \n",
       "99   -24.41.15.799    137.85         0.5     82.3         0   0.00027   \n",
       "100  -24.31.39.587    139.40         1.5     93.5         0   0.00027   \n",
       "\n",
       "     rms_model_profile Class Features  R_zoom  rms_model_percentage  Stage  \n",
       "96        3.431108e+08    II   Cavity     0.5              0.006976      4  \n",
       "97        3.260595e+08     I      Gap     0.5              0.004243      2  \n",
       "98        3.502581e+08     F   Smooth     0.4              0.001877      0  \n",
       "99        3.487347e+08    II   Smooth     0.5              0.001973      0  \n",
       "100       3.315969e+08    II      Gap     1.5              0.029958      2  "
      ]
     },
     "execution_count": 150,
     "metadata": {},
     "output_type": "execute_result"
    }
   ],
   "source": [
    "\n",
    "!pwd\n",
    "import os\n",
    "import pandas as pd\n",
    "table_example = pd.read_csv(os.path.join(os.getcwd(),\"table.csv\"))\n",
    "# YOU ALSO CAN DELIMIT ANOTHER DELIMITER THAT NOT \",\" WITH SEP or DELIMITER \n",
    "\n",
    "# Here you can verify the first 5 lines with head, and last with tail\n",
    "\n",
    "table_example.head(5)\n",
    "table_example.tail(5)"
   ]
  },
  {
   "cell_type": "markdown",
   "id": "1357cacd",
   "metadata": {},
   "source": [
    "## Acessing columns, indexes and modifying them"
   ]
  },
  {
   "cell_type": "code",
   "execution_count": 151,
   "id": "a29b58c3",
   "metadata": {},
   "outputs": [
    {
     "data": {
      "text/plain": [
       "Index(['id', 'field', 'beam_pa', 'beam_maj', 'beam_min', 'center_x',\n",
       "       'center_y', 'Distance', 'Rmax_frank', 'B8_Flux', 'isbinary', 'rms_data',\n",
       "       'rms_model_profile', 'Class', 'Features', 'R_zoom',\n",
       "       'rms_model_percentage', 'Stage'],\n",
       "      dtype='object')"
      ]
     },
     "execution_count": 151,
     "metadata": {},
     "output_type": "execute_result"
    }
   ],
   "source": [
    "table_example.columns"
   ]
  },
  {
   "cell_type": "code",
   "execution_count": 152,
   "id": "bfb02d77",
   "metadata": {},
   "outputs": [
    {
     "data": {
      "application/vnd.microsoft.datawrangler.viewer.v0+json": {
       "columns": [
        {
         "name": "index",
         "rawType": "int64",
         "type": "integer"
        },
        {
         "name": "SOURCE_ID",
         "rawType": "int64",
         "type": "integer"
        },
        {
         "name": "FIELD",
         "rawType": "object",
         "type": "string"
        },
        {
         "name": "BEAM_PA",
         "rawType": "float64",
         "type": "float"
        },
        {
         "name": "BEAM_MAJ",
         "rawType": "float64",
         "type": "float"
        },
        {
         "name": "BEAM_MIN",
         "rawType": "float64",
         "type": "float"
        },
        {
         "name": "CENTER_X",
         "rawType": "object",
         "type": "string"
        },
        {
         "name": "CENTER_Y",
         "rawType": "object",
         "type": "string"
        },
        {
         "name": "DISTANCE",
         "rawType": "float64",
         "type": "float"
        },
        {
         "name": "RMAX_FRANK",
         "rawType": "float64",
         "type": "float"
        },
        {
         "name": "B8_FLUX",
         "rawType": "float64",
         "type": "float"
        },
        {
         "name": "ISBINARY",
         "rawType": "int64",
         "type": "integer"
        },
        {
         "name": "RMS_DATA",
         "rawType": "float64",
         "type": "float"
        },
        {
         "name": "RMS_MODEL_PROFILE",
         "rawType": "float64",
         "type": "float"
        },
        {
         "name": "CLASS",
         "rawType": "object",
         "type": "string"
        },
        {
         "name": "FEATURES",
         "rawType": "object",
         "type": "string"
        },
        {
         "name": "R_ZOOM",
         "rawType": "float64",
         "type": "float"
        },
        {
         "name": "RMS_MODEL_PERCENTAGE",
         "rawType": "float64",
         "type": "float"
        },
        {
         "name": "STAGE",
         "rawType": "int64",
         "type": "integer"
        }
       ],
       "ref": "90a0eae0-0bdf-4bad-af17-21147e48562f",
       "rows": [
        [
         "0",
         "0",
         "iso-oph_123",
         "-88.46908",
         "0.06534",
         "0.05455",
         "16:27:17.5744",
         "-24.05.14.300",
         "136.58",
         "0.5",
         "28.9",
         "0",
         "0.00038",
         "4003099394.32577",
         "II",
         "Smooth",
         "0.25",
         "0.088586566170015",
         "0"
        ],
        [
         "1",
         "1",
         "iso-oph_13",
         "86.27869",
         "0.06455",
         "0.05194",
         "16:26:07.032",
         "-24.27.24.800",
         "139.4",
         "0.5",
         "25.1",
         "0",
         "0.00039",
         "4367702778.83606",
         "II",
         "Smooth",
         "0.3",
         "0.147875632051979",
         "0"
        ],
        [
         "2",
         "2",
         "iso-oph_193",
         "-86.48737",
         "0.06742",
         "0.0551",
         "16:28:12.713",
         "-24.11.36.340",
         "151.74",
         "0.5",
         "11.57",
         "0",
         "0.00047",
         "4750553056.10056",
         "II",
         "Smooth",
         "0.25",
         "0.051123363461826",
         "0"
        ]
       ],
       "shape": {
        "columns": 18,
        "rows": 3
       }
      },
      "text/html": [
       "<div>\n",
       "<style scoped>\n",
       "    .dataframe tbody tr th:only-of-type {\n",
       "        vertical-align: middle;\n",
       "    }\n",
       "\n",
       "    .dataframe tbody tr th {\n",
       "        vertical-align: top;\n",
       "    }\n",
       "\n",
       "    .dataframe thead th {\n",
       "        text-align: right;\n",
       "    }\n",
       "</style>\n",
       "<table border=\"1\" class=\"dataframe\">\n",
       "  <thead>\n",
       "    <tr style=\"text-align: right;\">\n",
       "      <th></th>\n",
       "      <th>SOURCE_ID</th>\n",
       "      <th>FIELD</th>\n",
       "      <th>BEAM_PA</th>\n",
       "      <th>BEAM_MAJ</th>\n",
       "      <th>BEAM_MIN</th>\n",
       "      <th>CENTER_X</th>\n",
       "      <th>CENTER_Y</th>\n",
       "      <th>DISTANCE</th>\n",
       "      <th>RMAX_FRANK</th>\n",
       "      <th>B8_FLUX</th>\n",
       "      <th>ISBINARY</th>\n",
       "      <th>RMS_DATA</th>\n",
       "      <th>RMS_MODEL_PROFILE</th>\n",
       "      <th>CLASS</th>\n",
       "      <th>FEATURES</th>\n",
       "      <th>R_ZOOM</th>\n",
       "      <th>RMS_MODEL_PERCENTAGE</th>\n",
       "      <th>STAGE</th>\n",
       "    </tr>\n",
       "  </thead>\n",
       "  <tbody>\n",
       "    <tr>\n",
       "      <th>0</th>\n",
       "      <td>0</td>\n",
       "      <td>iso-oph_123</td>\n",
       "      <td>-88.46908</td>\n",
       "      <td>0.06534</td>\n",
       "      <td>0.05455</td>\n",
       "      <td>16:27:17.5744</td>\n",
       "      <td>-24.05.14.300</td>\n",
       "      <td>136.58</td>\n",
       "      <td>0.5</td>\n",
       "      <td>28.90</td>\n",
       "      <td>0</td>\n",
       "      <td>0.00038</td>\n",
       "      <td>4.003099e+09</td>\n",
       "      <td>II</td>\n",
       "      <td>Smooth</td>\n",
       "      <td>0.25</td>\n",
       "      <td>0.088587</td>\n",
       "      <td>0</td>\n",
       "    </tr>\n",
       "    <tr>\n",
       "      <th>1</th>\n",
       "      <td>1</td>\n",
       "      <td>iso-oph_13</td>\n",
       "      <td>86.27869</td>\n",
       "      <td>0.06455</td>\n",
       "      <td>0.05194</td>\n",
       "      <td>16:26:07.032</td>\n",
       "      <td>-24.27.24.800</td>\n",
       "      <td>139.40</td>\n",
       "      <td>0.5</td>\n",
       "      <td>25.10</td>\n",
       "      <td>0</td>\n",
       "      <td>0.00039</td>\n",
       "      <td>4.367703e+09</td>\n",
       "      <td>II</td>\n",
       "      <td>Smooth</td>\n",
       "      <td>0.30</td>\n",
       "      <td>0.147876</td>\n",
       "      <td>0</td>\n",
       "    </tr>\n",
       "    <tr>\n",
       "      <th>2</th>\n",
       "      <td>2</td>\n",
       "      <td>iso-oph_193</td>\n",
       "      <td>-86.48737</td>\n",
       "      <td>0.06742</td>\n",
       "      <td>0.05510</td>\n",
       "      <td>16:28:12.713</td>\n",
       "      <td>-24.11.36.340</td>\n",
       "      <td>151.74</td>\n",
       "      <td>0.5</td>\n",
       "      <td>11.57</td>\n",
       "      <td>0</td>\n",
       "      <td>0.00047</td>\n",
       "      <td>4.750553e+09</td>\n",
       "      <td>II</td>\n",
       "      <td>Smooth</td>\n",
       "      <td>0.25</td>\n",
       "      <td>0.051123</td>\n",
       "      <td>0</td>\n",
       "    </tr>\n",
       "  </tbody>\n",
       "</table>\n",
       "</div>"
      ],
      "text/plain": [
       "   SOURCE_ID        FIELD   BEAM_PA  BEAM_MAJ  BEAM_MIN       CENTER_X  \\\n",
       "0          0  iso-oph_123 -88.46908   0.06534   0.05455  16:27:17.5744   \n",
       "1          1   iso-oph_13  86.27869   0.06455   0.05194   16:26:07.032   \n",
       "2          2  iso-oph_193 -86.48737   0.06742   0.05510   16:28:12.713   \n",
       "\n",
       "        CENTER_Y  DISTANCE  RMAX_FRANK  B8_FLUX  ISBINARY  RMS_DATA  \\\n",
       "0  -24.05.14.300    136.58         0.5    28.90         0   0.00038   \n",
       "1  -24.27.24.800    139.40         0.5    25.10         0   0.00039   \n",
       "2  -24.11.36.340    151.74         0.5    11.57         0   0.00047   \n",
       "\n",
       "   RMS_MODEL_PROFILE CLASS FEATURES  R_ZOOM  RMS_MODEL_PERCENTAGE  STAGE  \n",
       "0       4.003099e+09    II   Smooth    0.25              0.088587      0  \n",
       "1       4.367703e+09    II   Smooth    0.30              0.147876      0  \n",
       "2       4.750553e+09    II   Smooth    0.25              0.051123      0  "
      ]
     },
     "execution_count": 152,
     "metadata": {},
     "output_type": "execute_result"
    }
   ],
   "source": [
    "table_example = table_example.rename(columns = {\"id\":\"source_id\"})\n",
    "table_example = table_example.rename(str.upper,axis=\"columns\")\n",
    "table_example[\"FIELD\"] = table_example[\"FIELD\"].map(lambda x: x.lower())\n",
    "# table_example.head(3)\n",
    "table_example.head(3)"
   ]
  },
  {
   "cell_type": "code",
   "execution_count": 153,
   "id": "754acf82",
   "metadata": {},
   "outputs": [
    {
     "data": {
      "application/vnd.microsoft.datawrangler.viewer.v0+json": {
       "columns": [
        {
         "name": "index",
         "rawType": "int64",
         "type": "integer"
        },
        {
         "name": "id",
         "rawType": "int64",
         "type": "integer"
        },
        {
         "name": "field",
         "rawType": "object",
         "type": "string"
        },
        {
         "name": "B8_Flux",
         "rawType": "float64",
         "type": "float"
        },
        {
         "name": "Class",
         "rawType": "object",
         "type": "string"
        },
        {
         "name": "Features",
         "rawType": "object",
         "type": "string"
        },
        {
         "name": "Stage",
         "rawType": "int64",
         "type": "integer"
        }
       ],
       "ref": "ae7fc965-2ab0-4b25-be0b-bec14800acfd",
       "rows": [
        [
         "0",
         "0",
         "ISO-Oph_123",
         "28.9",
         "II",
         "Smooth",
         "0"
        ],
        [
         "1",
         "1",
         "ISO-Oph_13",
         "25.1",
         "II",
         "Smooth",
         "0"
        ],
        [
         "2",
         "2",
         "ISO-Oph_193",
         "11.57",
         "II",
         "Smooth",
         "0"
        ]
       ],
       "shape": {
        "columns": 6,
        "rows": 3
       }
      },
      "text/html": [
       "<div>\n",
       "<style scoped>\n",
       "    .dataframe tbody tr th:only-of-type {\n",
       "        vertical-align: middle;\n",
       "    }\n",
       "\n",
       "    .dataframe tbody tr th {\n",
       "        vertical-align: top;\n",
       "    }\n",
       "\n",
       "    .dataframe thead th {\n",
       "        text-align: right;\n",
       "    }\n",
       "</style>\n",
       "<table border=\"1\" class=\"dataframe\">\n",
       "  <thead>\n",
       "    <tr style=\"text-align: right;\">\n",
       "      <th></th>\n",
       "      <th>id</th>\n",
       "      <th>field</th>\n",
       "      <th>B8_Flux</th>\n",
       "      <th>Class</th>\n",
       "      <th>Features</th>\n",
       "      <th>Stage</th>\n",
       "    </tr>\n",
       "  </thead>\n",
       "  <tbody>\n",
       "    <tr>\n",
       "      <th>0</th>\n",
       "      <td>0</td>\n",
       "      <td>ISO-Oph_123</td>\n",
       "      <td>28.90</td>\n",
       "      <td>II</td>\n",
       "      <td>Smooth</td>\n",
       "      <td>0</td>\n",
       "    </tr>\n",
       "    <tr>\n",
       "      <th>1</th>\n",
       "      <td>1</td>\n",
       "      <td>ISO-Oph_13</td>\n",
       "      <td>25.10</td>\n",
       "      <td>II</td>\n",
       "      <td>Smooth</td>\n",
       "      <td>0</td>\n",
       "    </tr>\n",
       "    <tr>\n",
       "      <th>2</th>\n",
       "      <td>2</td>\n",
       "      <td>ISO-Oph_193</td>\n",
       "      <td>11.57</td>\n",
       "      <td>II</td>\n",
       "      <td>Smooth</td>\n",
       "      <td>0</td>\n",
       "    </tr>\n",
       "  </tbody>\n",
       "</table>\n",
       "</div>"
      ],
      "text/plain": [
       "   id        field  B8_Flux Class Features  Stage\n",
       "0   0  ISO-Oph_123    28.90    II   Smooth      0\n",
       "1   1   ISO-Oph_13    25.10    II   Smooth      0\n",
       "2   2  ISO-Oph_193    11.57    II   Smooth      0"
      ]
     },
     "execution_count": 153,
     "metadata": {},
     "output_type": "execute_result"
    }
   ],
   "source": [
    "subset_table = pd.read_csv(os.getcwd()+\"/table.csv\",usecols=[\"id\",\"field\",\"B8_Flux\",\"Class\",\"Features\",\"Stage\"])\n",
    "subset_table.head(3)"
   ]
  },
  {
   "cell_type": "markdown",
   "id": "704360d8",
   "metadata": {},
   "source": [
    "## Now lets reset indexes and sort values by Flux collumn"
   ]
  },
  {
   "cell_type": "code",
   "execution_count": 154,
   "id": "03311f3a",
   "metadata": {},
   "outputs": [
    {
     "data": {
      "application/vnd.microsoft.datawrangler.viewer.v0+json": {
       "columns": [
        {
         "name": "index",
         "rawType": "int64",
         "type": "integer"
        },
        {
         "name": "id",
         "rawType": "int64",
         "type": "integer"
        },
        {
         "name": "field",
         "rawType": "object",
         "type": "string"
        },
        {
         "name": "B8_Flux",
         "rawType": "float64",
         "type": "float"
        },
        {
         "name": "Class",
         "rawType": "object",
         "type": "string"
        },
        {
         "name": "Features",
         "rawType": "object",
         "type": "string"
        },
        {
         "name": "Stage",
         "rawType": "int64",
         "type": "integer"
        }
       ],
       "ref": "27416992-1d44-4181-92d1-f02485b40a9d",
       "rows": [
        [
         "48",
         "48",
         "ODISEA_C4_106B",
         "3.94",
         "II",
         "Smooth",
         "0"
        ],
        [
         "87",
         "87",
         "ODISEA_C4_53B",
         "4.71",
         "F",
         "Smooth",
         "0"
        ],
        [
         "20",
         "20",
         "ODISEA_C4_050B",
         "6.58",
         "II",
         "Smooth",
         "0"
        ]
       ],
       "shape": {
        "columns": 6,
        "rows": 3
       }
      },
      "text/html": [
       "<div>\n",
       "<style scoped>\n",
       "    .dataframe tbody tr th:only-of-type {\n",
       "        vertical-align: middle;\n",
       "    }\n",
       "\n",
       "    .dataframe tbody tr th {\n",
       "        vertical-align: top;\n",
       "    }\n",
       "\n",
       "    .dataframe thead th {\n",
       "        text-align: right;\n",
       "    }\n",
       "</style>\n",
       "<table border=\"1\" class=\"dataframe\">\n",
       "  <thead>\n",
       "    <tr style=\"text-align: right;\">\n",
       "      <th></th>\n",
       "      <th>id</th>\n",
       "      <th>field</th>\n",
       "      <th>B8_Flux</th>\n",
       "      <th>Class</th>\n",
       "      <th>Features</th>\n",
       "      <th>Stage</th>\n",
       "    </tr>\n",
       "  </thead>\n",
       "  <tbody>\n",
       "    <tr>\n",
       "      <th>48</th>\n",
       "      <td>48</td>\n",
       "      <td>ODISEA_C4_106B</td>\n",
       "      <td>3.94</td>\n",
       "      <td>II</td>\n",
       "      <td>Smooth</td>\n",
       "      <td>0</td>\n",
       "    </tr>\n",
       "    <tr>\n",
       "      <th>87</th>\n",
       "      <td>87</td>\n",
       "      <td>ODISEA_C4_53B</td>\n",
       "      <td>4.71</td>\n",
       "      <td>F</td>\n",
       "      <td>Smooth</td>\n",
       "      <td>0</td>\n",
       "    </tr>\n",
       "    <tr>\n",
       "      <th>20</th>\n",
       "      <td>20</td>\n",
       "      <td>ODISEA_C4_050B</td>\n",
       "      <td>6.58</td>\n",
       "      <td>II</td>\n",
       "      <td>Smooth</td>\n",
       "      <td>0</td>\n",
       "    </tr>\n",
       "  </tbody>\n",
       "</table>\n",
       "</div>"
      ],
      "text/plain": [
       "    id           field  B8_Flux Class Features  Stage\n",
       "48  48  ODISEA_C4_106B     3.94    II   Smooth      0\n",
       "87  87   ODISEA_C4_53B     4.71     F   Smooth      0\n",
       "20  20  ODISEA_C4_050B     6.58    II   Smooth      0"
      ]
     },
     "execution_count": 154,
     "metadata": {},
     "output_type": "execute_result"
    }
   ],
   "source": [
    "# subset_table = subset_table.drop_duplicates()\n",
    "subset_table = subset_table.sort_values(by=\"B8_Flux\")\n",
    "subset_table.head(3)\n"
   ]
  },
  {
   "cell_type": "code",
   "execution_count": 155,
   "id": "1ccdc92e",
   "metadata": {},
   "outputs": [
    {
     "data": {
      "application/vnd.microsoft.datawrangler.viewer.v0+json": {
       "columns": [
        {
         "name": "index",
         "rawType": "int64",
         "type": "integer"
        },
        {
         "name": "index",
         "rawType": "int64",
         "type": "integer"
        },
        {
         "name": "id",
         "rawType": "int64",
         "type": "integer"
        },
        {
         "name": "field",
         "rawType": "object",
         "type": "string"
        },
        {
         "name": "B8_Flux",
         "rawType": "float64",
         "type": "float"
        },
        {
         "name": "Class",
         "rawType": "object",
         "type": "string"
        },
        {
         "name": "Features",
         "rawType": "object",
         "type": "string"
        },
        {
         "name": "Stage",
         "rawType": "int64",
         "type": "integer"
        }
       ],
       "ref": "b4e411bc-d3a9-4ddf-bb53-ae138587a827",
       "rows": [
        [
         "0",
         "48",
         "48",
         "ODISEA_C4_106B",
         "3.94",
         "II",
         "Smooth",
         "0"
        ],
        [
         "1",
         "87",
         "87",
         "ODISEA_C4_53B",
         "4.71",
         "F",
         "Smooth",
         "0"
        ],
        [
         "2",
         "20",
         "20",
         "ODISEA_C4_050B",
         "6.58",
         "II",
         "Smooth",
         "0"
        ]
       ],
       "shape": {
        "columns": 7,
        "rows": 3
       }
      },
      "text/html": [
       "<div>\n",
       "<style scoped>\n",
       "    .dataframe tbody tr th:only-of-type {\n",
       "        vertical-align: middle;\n",
       "    }\n",
       "\n",
       "    .dataframe tbody tr th {\n",
       "        vertical-align: top;\n",
       "    }\n",
       "\n",
       "    .dataframe thead th {\n",
       "        text-align: right;\n",
       "    }\n",
       "</style>\n",
       "<table border=\"1\" class=\"dataframe\">\n",
       "  <thead>\n",
       "    <tr style=\"text-align: right;\">\n",
       "      <th></th>\n",
       "      <th>index</th>\n",
       "      <th>id</th>\n",
       "      <th>field</th>\n",
       "      <th>B8_Flux</th>\n",
       "      <th>Class</th>\n",
       "      <th>Features</th>\n",
       "      <th>Stage</th>\n",
       "    </tr>\n",
       "  </thead>\n",
       "  <tbody>\n",
       "    <tr>\n",
       "      <th>0</th>\n",
       "      <td>48</td>\n",
       "      <td>48</td>\n",
       "      <td>ODISEA_C4_106B</td>\n",
       "      <td>3.94</td>\n",
       "      <td>II</td>\n",
       "      <td>Smooth</td>\n",
       "      <td>0</td>\n",
       "    </tr>\n",
       "    <tr>\n",
       "      <th>1</th>\n",
       "      <td>87</td>\n",
       "      <td>87</td>\n",
       "      <td>ODISEA_C4_53B</td>\n",
       "      <td>4.71</td>\n",
       "      <td>F</td>\n",
       "      <td>Smooth</td>\n",
       "      <td>0</td>\n",
       "    </tr>\n",
       "    <tr>\n",
       "      <th>2</th>\n",
       "      <td>20</td>\n",
       "      <td>20</td>\n",
       "      <td>ODISEA_C4_050B</td>\n",
       "      <td>6.58</td>\n",
       "      <td>II</td>\n",
       "      <td>Smooth</td>\n",
       "      <td>0</td>\n",
       "    </tr>\n",
       "  </tbody>\n",
       "</table>\n",
       "</div>"
      ],
      "text/plain": [
       "   index  id           field  B8_Flux Class Features  Stage\n",
       "0     48  48  ODISEA_C4_106B     3.94    II   Smooth      0\n",
       "1     87  87   ODISEA_C4_53B     4.71     F   Smooth      0\n",
       "2     20  20  ODISEA_C4_050B     6.58    II   Smooth      0"
      ]
     },
     "execution_count": 155,
     "metadata": {},
     "output_type": "execute_result"
    }
   ],
   "source": [
    "subset_table = subset_table.reset_index()\n",
    "subset_table.head(3)"
   ]
  },
  {
   "cell_type": "code",
   "execution_count": null,
   "id": "839f19fa",
   "metadata": {},
   "outputs": [
    {
     "data": {
      "application/vnd.microsoft.datawrangler.viewer.v0+json": {
       "columns": [
        {
         "name": "index",
         "rawType": "int64",
         "type": "integer"
        },
        {
         "name": "index",
         "rawType": "int64",
         "type": "integer"
        },
        {
         "name": "id",
         "rawType": "int64",
         "type": "integer"
        },
        {
         "name": "field",
         "rawType": "object",
         "type": "string"
        },
        {
         "name": "B8_Flux",
         "rawType": "float64",
         "type": "float"
        },
        {
         "name": "Class",
         "rawType": "object",
         "type": "string"
        },
        {
         "name": "Features",
         "rawType": "object",
         "type": "string"
        },
        {
         "name": "Stage",
         "rawType": "int64",
         "type": "integer"
        }
       ],
       "ref": "cd70180e-8187-4fc9-bde6-4e0f27725396",
       "rows": [
        [
         "0",
         "0",
         "48",
         "ODISEA_C4_106B",
         "3.94",
         "II",
         "Smooth",
         "0"
        ],
        [
         "1",
         "1",
         "87",
         "ODISEA_C4_53B",
         "4.71",
         "F",
         "Smooth",
         "0"
        ],
        [
         "2",
         "2",
         "20",
         "ODISEA_C4_050B",
         "6.58",
         "II",
         "Smooth",
         "0"
        ]
       ],
       "shape": {
        "columns": 7,
        "rows": 3
       }
      },
      "text/html": [
       "<div>\n",
       "<style scoped>\n",
       "    .dataframe tbody tr th:only-of-type {\n",
       "        vertical-align: middle;\n",
       "    }\n",
       "\n",
       "    .dataframe tbody tr th {\n",
       "        vertical-align: top;\n",
       "    }\n",
       "\n",
       "    .dataframe thead th {\n",
       "        text-align: right;\n",
       "    }\n",
       "</style>\n",
       "<table border=\"1\" class=\"dataframe\">\n",
       "  <thead>\n",
       "    <tr style=\"text-align: right;\">\n",
       "      <th></th>\n",
       "      <th>index</th>\n",
       "      <th>id</th>\n",
       "      <th>field</th>\n",
       "      <th>B8_Flux</th>\n",
       "      <th>Class</th>\n",
       "      <th>Features</th>\n",
       "      <th>Stage</th>\n",
       "    </tr>\n",
       "  </thead>\n",
       "  <tbody>\n",
       "    <tr>\n",
       "      <th>0</th>\n",
       "      <td>0</td>\n",
       "      <td>48</td>\n",
       "      <td>ODISEA_C4_106B</td>\n",
       "      <td>3.94</td>\n",
       "      <td>II</td>\n",
       "      <td>Smooth</td>\n",
       "      <td>0</td>\n",
       "    </tr>\n",
       "    <tr>\n",
       "      <th>1</th>\n",
       "      <td>1</td>\n",
       "      <td>87</td>\n",
       "      <td>ODISEA_C4_53B</td>\n",
       "      <td>4.71</td>\n",
       "      <td>F</td>\n",
       "      <td>Smooth</td>\n",
       "      <td>0</td>\n",
       "    </tr>\n",
       "    <tr>\n",
       "      <th>2</th>\n",
       "      <td>2</td>\n",
       "      <td>20</td>\n",
       "      <td>ODISEA_C4_050B</td>\n",
       "      <td>6.58</td>\n",
       "      <td>II</td>\n",
       "      <td>Smooth</td>\n",
       "      <td>0</td>\n",
       "    </tr>\n",
       "  </tbody>\n",
       "</table>\n",
       "</div>"
      ],
      "text/plain": [
       "   index  id           field  B8_Flux Class Features  Stage\n",
       "0      0  48  ODISEA_C4_106B     3.94    II   Smooth      0\n",
       "1      1  87   ODISEA_C4_53B     4.71     F   Smooth      0\n",
       "2      2  20  ODISEA_C4_050B     6.58    II   Smooth      0"
      ]
     },
     "execution_count": 156,
     "metadata": {},
     "output_type": "execute_result"
    }
   ],
   "source": [
    "subset_table[\"index\"] = subset_table.index\n",
    "subset_table.head(3)"
   ]
  },
  {
   "cell_type": "code",
   "execution_count": 157,
   "id": "704f1311",
   "metadata": {},
   "outputs": [
    {
     "name": "stdout",
     "output_type": "stream",
     "text": [
      "3.94\n",
      "   index  id           field  B8_Flux Class Features  Stage\n",
      "0      0  48  ODISEA_C4_106B     3.94    II   Smooth      0\n",
      "3      3  65  ODISEA_C4_134B     6.70     F   Smooth      0\n"
     ]
    }
   ],
   "source": [
    "#Acessing index by its number\n",
    "print(subset_table.iloc[0,3]) # Still can acess the same results, in this case, with double [[]]\n",
    "\n",
    "# Acessing index by its \"name\"  In this case, I dont have index names different than sequential numbers\n",
    "print(subset_table.loc[[0,3]])"
   ]
  },
  {
   "cell_type": "markdown",
   "id": "9f6ad21a",
   "metadata": {},
   "source": [
    "## Now modifying the index, to use better loc and iloc and removing a collumn"
   ]
  },
  {
   "cell_type": "code",
   "execution_count": 158,
   "id": "f7eae99a",
   "metadata": {},
   "outputs": [
    {
     "data": {
      "application/vnd.microsoft.datawrangler.viewer.v0+json": {
       "columns": [
        {
         "name": "index",
         "rawType": "object",
         "type": "string"
        },
        {
         "name": "id",
         "rawType": "int64",
         "type": "integer"
        },
        {
         "name": "field",
         "rawType": "object",
         "type": "string"
        },
        {
         "name": "B8_Flux",
         "rawType": "float64",
         "type": "float"
        },
        {
         "name": "Class",
         "rawType": "object",
         "type": "string"
        },
        {
         "name": "Features",
         "rawType": "object",
         "type": "string"
        },
        {
         "name": "Stage",
         "rawType": "int64",
         "type": "integer"
        }
       ],
       "ref": "baa1d06b-cdbb-4760-beda-fbd4ed1388c3",
       "rows": [
        [
         "ODISEA_C4_106B",
         "48",
         "ODISEA_C4_106B",
         "3.94",
         "II",
         "Smooth",
         "0"
        ],
        [
         "ODISEA_C4_53B",
         "87",
         "ODISEA_C4_53B",
         "4.71",
         "F",
         "Smooth",
         "0"
        ],
        [
         "ODISEA_C4_050B",
         "20",
         "ODISEA_C4_050B",
         "6.58",
         "II",
         "Smooth",
         "0"
        ],
        [
         "ODISEA_C4_134B",
         "65",
         "ODISEA_C4_134B",
         "6.7",
         "F",
         "Smooth",
         "0"
        ],
        [
         "ODISEA_C4_125B",
         "57",
         "ODISEA_C4_125B",
         "8.6",
         "II",
         "Smooth",
         "0"
        ]
       ],
       "shape": {
        "columns": 6,
        "rows": 5
       }
      },
      "text/html": [
       "<div>\n",
       "<style scoped>\n",
       "    .dataframe tbody tr th:only-of-type {\n",
       "        vertical-align: middle;\n",
       "    }\n",
       "\n",
       "    .dataframe tbody tr th {\n",
       "        vertical-align: top;\n",
       "    }\n",
       "\n",
       "    .dataframe thead th {\n",
       "        text-align: right;\n",
       "    }\n",
       "</style>\n",
       "<table border=\"1\" class=\"dataframe\">\n",
       "  <thead>\n",
       "    <tr style=\"text-align: right;\">\n",
       "      <th></th>\n",
       "      <th>id</th>\n",
       "      <th>field</th>\n",
       "      <th>B8_Flux</th>\n",
       "      <th>Class</th>\n",
       "      <th>Features</th>\n",
       "      <th>Stage</th>\n",
       "    </tr>\n",
       "    <tr>\n",
       "      <th>index</th>\n",
       "      <th></th>\n",
       "      <th></th>\n",
       "      <th></th>\n",
       "      <th></th>\n",
       "      <th></th>\n",
       "      <th></th>\n",
       "    </tr>\n",
       "  </thead>\n",
       "  <tbody>\n",
       "    <tr>\n",
       "      <th>ODISEA_C4_106B</th>\n",
       "      <td>48</td>\n",
       "      <td>ODISEA_C4_106B</td>\n",
       "      <td>3.94</td>\n",
       "      <td>II</td>\n",
       "      <td>Smooth</td>\n",
       "      <td>0</td>\n",
       "    </tr>\n",
       "    <tr>\n",
       "      <th>ODISEA_C4_53B</th>\n",
       "      <td>87</td>\n",
       "      <td>ODISEA_C4_53B</td>\n",
       "      <td>4.71</td>\n",
       "      <td>F</td>\n",
       "      <td>Smooth</td>\n",
       "      <td>0</td>\n",
       "    </tr>\n",
       "    <tr>\n",
       "      <th>ODISEA_C4_050B</th>\n",
       "      <td>20</td>\n",
       "      <td>ODISEA_C4_050B</td>\n",
       "      <td>6.58</td>\n",
       "      <td>II</td>\n",
       "      <td>Smooth</td>\n",
       "      <td>0</td>\n",
       "    </tr>\n",
       "    <tr>\n",
       "      <th>ODISEA_C4_134B</th>\n",
       "      <td>65</td>\n",
       "      <td>ODISEA_C4_134B</td>\n",
       "      <td>6.70</td>\n",
       "      <td>F</td>\n",
       "      <td>Smooth</td>\n",
       "      <td>0</td>\n",
       "    </tr>\n",
       "    <tr>\n",
       "      <th>ODISEA_C4_125B</th>\n",
       "      <td>57</td>\n",
       "      <td>ODISEA_C4_125B</td>\n",
       "      <td>8.60</td>\n",
       "      <td>II</td>\n",
       "      <td>Smooth</td>\n",
       "      <td>0</td>\n",
       "    </tr>\n",
       "  </tbody>\n",
       "</table>\n",
       "</div>"
      ],
      "text/plain": [
       "                id           field  B8_Flux Class Features  Stage\n",
       "index                                                            \n",
       "ODISEA_C4_106B  48  ODISEA_C4_106B     3.94    II   Smooth      0\n",
       "ODISEA_C4_53B   87   ODISEA_C4_53B     4.71     F   Smooth      0\n",
       "ODISEA_C4_050B  20  ODISEA_C4_050B     6.58    II   Smooth      0\n",
       "ODISEA_C4_134B  65  ODISEA_C4_134B     6.70     F   Smooth      0\n",
       "ODISEA_C4_125B  57  ODISEA_C4_125B     8.60    II   Smooth      0"
      ]
     },
     "execution_count": 158,
     "metadata": {},
     "output_type": "execute_result"
    }
   ],
   "source": [
    "subset_table[\"index\"] = subset_table[\"field\"]\n",
    "subsubset = subset_table.drop(\"field\",axis = \"columns\")\n",
    "subsubset_new_index = subset_table.set_index(\"index\")\n",
    "subsubset_new_index.head(5)"
   ]
  },
  {
   "cell_type": "code",
   "execution_count": 159,
   "id": "afd38113",
   "metadata": {},
   "outputs": [
    {
     "data": {
      "application/vnd.microsoft.datawrangler.viewer.v0+json": {
       "columns": [
        {
         "name": "index",
         "rawType": "object",
         "type": "string"
        },
        {
         "name": "ODISEA_C4_106B",
         "rawType": "object",
         "type": "unknown"
        }
       ],
       "ref": "73d43e59-5644-499c-8af9-6c8f5b4e1bc1",
       "rows": [
        [
         "id",
         "48"
        ],
        [
         "field",
         "ODISEA_C4_106B"
        ],
        [
         "B8_Flux",
         "3.94"
        ],
        [
         "Class",
         "II"
        ],
        [
         "Features",
         "Smooth"
        ],
        [
         "Stage",
         "0"
        ]
       ],
       "shape": {
        "columns": 1,
        "rows": 6
       }
      },
      "text/plain": [
       "id                      48\n",
       "field       ODISEA_C4_106B\n",
       "B8_Flux               3.94\n",
       "Class                   II\n",
       "Features            Smooth\n",
       "Stage                    0\n",
       "Name: ODISEA_C4_106B, dtype: object"
      ]
     },
     "execution_count": 159,
     "metadata": {},
     "output_type": "execute_result"
    }
   ],
   "source": [
    "subsubset_new_index.iloc[0]"
   ]
  },
  {
   "cell_type": "code",
   "execution_count": 160,
   "id": "cbd11698",
   "metadata": {},
   "outputs": [
    {
     "data": {
      "application/vnd.microsoft.datawrangler.viewer.v0+json": {
       "columns": [
        {
         "name": "index",
         "rawType": "object",
         "type": "string"
        },
        {
         "name": "ODISEA_C4_106B",
         "rawType": "object",
         "type": "unknown"
        }
       ],
       "ref": "ff0375a9-99a1-4de0-befc-f1239b3da2ce",
       "rows": [
        [
         "id",
         "48"
        ],
        [
         "field",
         "ODISEA_C4_106B"
        ],
        [
         "B8_Flux",
         "3.94"
        ],
        [
         "Class",
         "II"
        ],
        [
         "Features",
         "Smooth"
        ],
        [
         "Stage",
         "0"
        ]
       ],
       "shape": {
        "columns": 1,
        "rows": 6
       }
      },
      "text/plain": [
       "id                      48\n",
       "field       ODISEA_C4_106B\n",
       "B8_Flux               3.94\n",
       "Class                   II\n",
       "Features            Smooth\n",
       "Stage                    0\n",
       "Name: ODISEA_C4_106B, dtype: object"
      ]
     },
     "execution_count": 160,
     "metadata": {},
     "output_type": "execute_result"
    }
   ],
   "source": [
    "subsubset_new_index.loc[\"ODISEA_C4_106B\"]"
   ]
  },
  {
   "cell_type": "markdown",
   "id": "3fc15a65",
   "metadata": {},
   "source": [
    "## Getting back to original df, to learn how to merge and modify"
   ]
  },
  {
   "cell_type": "code",
   "execution_count": 161,
   "id": "399652fb",
   "metadata": {},
   "outputs": [],
   "source": [
    "table_example2 = pd.read_csv(os.path.join(os.getcwd(),\"table.csv\"))"
   ]
  },
  {
   "cell_type": "code",
   "execution_count": 162,
   "id": "f26c0ea1",
   "metadata": {},
   "outputs": [
    {
     "name": "stdout",
     "output_type": "stream",
     "text": [
      "<class 'pandas.core.frame.DataFrame'>\n",
      "Index: 81 entries, 0 to 100\n",
      "Data columns (total 18 columns):\n",
      " #   Column                Non-Null Count  Dtype  \n",
      "---  ------                --------------  -----  \n",
      " 0   id                    81 non-null     int64  \n",
      " 1   field                 81 non-null     object \n",
      " 2   beam_pa               81 non-null     float64\n",
      " 3   beam_maj              81 non-null     float64\n",
      " 4   beam_min              81 non-null     float64\n",
      " 5   center_x              81 non-null     object \n",
      " 6   center_y              81 non-null     object \n",
      " 7   Distance              81 non-null     float64\n",
      " 8   Rmax_frank            81 non-null     float64\n",
      " 9   B8_Flux               81 non-null     float64\n",
      " 10  isbinary              81 non-null     int64  \n",
      " 11  rms_data              81 non-null     float64\n",
      " 12  rms_model_profile     81 non-null     float64\n",
      " 13  Class                 81 non-null     object \n",
      " 14  Features              81 non-null     object \n",
      " 15  R_zoom                81 non-null     float64\n",
      " 16  rms_model_percentage  81 non-null     float64\n",
      " 17  Stage                 81 non-null     int64  \n",
      "dtypes: float64(10), int64(3), object(5)\n",
      "memory usage: 12.0+ KB\n"
     ]
    }
   ],
   "source": [
    "table_example_nobinaries = table_example2[table_example2[\"isbinary\"]==0]\n",
    "table_example_nobinaries.info(verbose=True)"
   ]
  },
  {
   "cell_type": "code",
   "execution_count": 163,
   "id": "15c859fc",
   "metadata": {},
   "outputs": [
    {
     "name": "stdout",
     "output_type": "stream",
     "text": [
      "<class 'pandas.core.frame.DataFrame'>\n",
      "Index: 20 entries, 7 to 87\n",
      "Data columns (total 18 columns):\n",
      " #   Column                Non-Null Count  Dtype  \n",
      "---  ------                --------------  -----  \n",
      " 0   id                    20 non-null     int64  \n",
      " 1   field                 20 non-null     object \n",
      " 2   beam_pa               20 non-null     float64\n",
      " 3   beam_maj              20 non-null     float64\n",
      " 4   beam_min              20 non-null     float64\n",
      " 5   center_x              20 non-null     object \n",
      " 6   center_y              20 non-null     object \n",
      " 7   Distance              20 non-null     float64\n",
      " 8   Rmax_frank            20 non-null     float64\n",
      " 9   B8_Flux               20 non-null     float64\n",
      " 10  isbinary              20 non-null     int64  \n",
      " 11  rms_data              20 non-null     float64\n",
      " 12  rms_model_profile     20 non-null     float64\n",
      " 13  Class                 20 non-null     object \n",
      " 14  Features              20 non-null     object \n",
      " 15  R_zoom                20 non-null     float64\n",
      " 16  rms_model_percentage  20 non-null     float64\n",
      " 17  Stage                 20 non-null     int64  \n",
      "dtypes: float64(10), int64(3), object(5)\n",
      "memory usage: 3.0+ KB\n"
     ]
    }
   ],
   "source": [
    "table_example_binaries = table_example2[table_example2[\"isbinary\"]==1]\n",
    "table_example_binaries.info(verbose=True)"
   ]
  },
  {
   "cell_type": "code",
   "execution_count": 164,
   "id": "1b8eb547",
   "metadata": {},
   "outputs": [
    {
     "name": "stdout",
     "output_type": "stream",
     "text": [
      "(81, 18)\n",
      "(20, 18)\n"
     ]
    }
   ],
   "source": [
    "print(table_example_nobinaries.shape)\n",
    "print(table_example_binaries.shape)"
   ]
  },
  {
   "cell_type": "code",
   "execution_count": 165,
   "id": "573e8a85",
   "metadata": {},
   "outputs": [
    {
     "data": {
      "application/vnd.microsoft.datawrangler.viewer.v0+json": {
       "columns": [
        {
         "name": "index",
         "rawType": "int64",
         "type": "integer"
        },
        {
         "name": "id",
         "rawType": "int64",
         "type": "integer"
        },
        {
         "name": "name",
         "rawType": "object",
         "type": "string"
        },
        {
         "name": "beam_pa",
         "rawType": "float64",
         "type": "float"
        },
        {
         "name": "beam_maj",
         "rawType": "float64",
         "type": "float"
        },
        {
         "name": "beam_min",
         "rawType": "float64",
         "type": "float"
        },
        {
         "name": "center_x",
         "rawType": "object",
         "type": "string"
        },
        {
         "name": "center_y",
         "rawType": "object",
         "type": "string"
        },
        {
         "name": "Distance",
         "rawType": "float64",
         "type": "float"
        },
        {
         "name": "Rmax_frank",
         "rawType": "float64",
         "type": "float"
        },
        {
         "name": "B8_Flux",
         "rawType": "float64",
         "type": "float"
        },
        {
         "name": "isbinary",
         "rawType": "int64",
         "type": "integer"
        },
        {
         "name": "rms_data",
         "rawType": "float64",
         "type": "float"
        },
        {
         "name": "rms_model_profile",
         "rawType": "float64",
         "type": "float"
        },
        {
         "name": "Class",
         "rawType": "object",
         "type": "string"
        },
        {
         "name": "Features",
         "rawType": "object",
         "type": "string"
        },
        {
         "name": "R_zoom",
         "rawType": "float64",
         "type": "float"
        },
        {
         "name": "rms_model_percentage",
         "rawType": "float64",
         "type": "float"
        },
        {
         "name": "Stage",
         "rawType": "int64",
         "type": "integer"
        }
       ],
       "ref": "06a1f01a-6d9d-4480-ba4a-00b6e50441f8",
       "rows": [
        [
         "7",
         "7",
         "ODISEA_C4_016A",
         "83.70428",
         "0.06517",
         "0.05202",
         "16:25:02.115",
         "-24.59.32.952",
         "142.04",
         "0.5",
         "35.1",
         "1",
         "0.00027",
         "2990421161.06375",
         "II",
         "Cavity",
         "0.25",
         "0.098998998669164",
         "4"
        ],
        [
         "8",
         "8",
         "ODISEA_C4_016B",
         "83.44037",
         "0.06613",
         "0.05255",
         "16:25:02:008",
         "-24.59.33.180",
         "142.04",
         "0.25",
         "23.7",
         "1",
         "0.00026",
         "2809239503.51781",
         "II",
         "Cavity",
         "0.25",
         "0.058617909872863",
         "4"
        ],
        [
         "13",
         "13",
         "ODISEA_C4_037A",
         "-87.03925",
         "0.06712",
         "0.05535",
         "16:26:23.4278",
         "-24.21.01.920",
         "125.69",
         "0.5",
         "52.0",
         "1",
         "0.00028",
         "2829926266.98938",
         "II",
         "Smooth",
         "0.2",
         "0.011777498699868",
         "0"
        ]
       ],
       "shape": {
        "columns": 18,
        "rows": 3
       }
      },
      "text/html": [
       "<div>\n",
       "<style scoped>\n",
       "    .dataframe tbody tr th:only-of-type {\n",
       "        vertical-align: middle;\n",
       "    }\n",
       "\n",
       "    .dataframe tbody tr th {\n",
       "        vertical-align: top;\n",
       "    }\n",
       "\n",
       "    .dataframe thead th {\n",
       "        text-align: right;\n",
       "    }\n",
       "</style>\n",
       "<table border=\"1\" class=\"dataframe\">\n",
       "  <thead>\n",
       "    <tr style=\"text-align: right;\">\n",
       "      <th></th>\n",
       "      <th>id</th>\n",
       "      <th>name</th>\n",
       "      <th>beam_pa</th>\n",
       "      <th>beam_maj</th>\n",
       "      <th>beam_min</th>\n",
       "      <th>center_x</th>\n",
       "      <th>center_y</th>\n",
       "      <th>Distance</th>\n",
       "      <th>Rmax_frank</th>\n",
       "      <th>B8_Flux</th>\n",
       "      <th>isbinary</th>\n",
       "      <th>rms_data</th>\n",
       "      <th>rms_model_profile</th>\n",
       "      <th>Class</th>\n",
       "      <th>Features</th>\n",
       "      <th>R_zoom</th>\n",
       "      <th>rms_model_percentage</th>\n",
       "      <th>Stage</th>\n",
       "    </tr>\n",
       "  </thead>\n",
       "  <tbody>\n",
       "    <tr>\n",
       "      <th>7</th>\n",
       "      <td>7</td>\n",
       "      <td>ODISEA_C4_016A</td>\n",
       "      <td>83.70428</td>\n",
       "      <td>0.06517</td>\n",
       "      <td>0.05202</td>\n",
       "      <td>16:25:02.115</td>\n",
       "      <td>-24.59.32.952</td>\n",
       "      <td>142.04</td>\n",
       "      <td>0.50</td>\n",
       "      <td>35.1</td>\n",
       "      <td>1</td>\n",
       "      <td>0.00027</td>\n",
       "      <td>2.990421e+09</td>\n",
       "      <td>II</td>\n",
       "      <td>Cavity</td>\n",
       "      <td>0.25</td>\n",
       "      <td>0.098999</td>\n",
       "      <td>4</td>\n",
       "    </tr>\n",
       "    <tr>\n",
       "      <th>8</th>\n",
       "      <td>8</td>\n",
       "      <td>ODISEA_C4_016B</td>\n",
       "      <td>83.44037</td>\n",
       "      <td>0.06613</td>\n",
       "      <td>0.05255</td>\n",
       "      <td>16:25:02:008</td>\n",
       "      <td>-24.59.33.180</td>\n",
       "      <td>142.04</td>\n",
       "      <td>0.25</td>\n",
       "      <td>23.7</td>\n",
       "      <td>1</td>\n",
       "      <td>0.00026</td>\n",
       "      <td>2.809240e+09</td>\n",
       "      <td>II</td>\n",
       "      <td>Cavity</td>\n",
       "      <td>0.25</td>\n",
       "      <td>0.058618</td>\n",
       "      <td>4</td>\n",
       "    </tr>\n",
       "    <tr>\n",
       "      <th>13</th>\n",
       "      <td>13</td>\n",
       "      <td>ODISEA_C4_037A</td>\n",
       "      <td>-87.03925</td>\n",
       "      <td>0.06712</td>\n",
       "      <td>0.05535</td>\n",
       "      <td>16:26:23.4278</td>\n",
       "      <td>-24.21.01.920</td>\n",
       "      <td>125.69</td>\n",
       "      <td>0.50</td>\n",
       "      <td>52.0</td>\n",
       "      <td>1</td>\n",
       "      <td>0.00028</td>\n",
       "      <td>2.829926e+09</td>\n",
       "      <td>II</td>\n",
       "      <td>Smooth</td>\n",
       "      <td>0.20</td>\n",
       "      <td>0.011777</td>\n",
       "      <td>0</td>\n",
       "    </tr>\n",
       "  </tbody>\n",
       "</table>\n",
       "</div>"
      ],
      "text/plain": [
       "    id            name   beam_pa  beam_maj  beam_min       center_x  \\\n",
       "7    7  ODISEA_C4_016A  83.70428   0.06517   0.05202   16:25:02.115   \n",
       "8    8  ODISEA_C4_016B  83.44037   0.06613   0.05255   16:25:02:008   \n",
       "13  13  ODISEA_C4_037A -87.03925   0.06712   0.05535  16:26:23.4278   \n",
       "\n",
       "         center_y  Distance  Rmax_frank  B8_Flux  isbinary  rms_data  \\\n",
       "7   -24.59.32.952    142.04        0.50     35.1         1   0.00027   \n",
       "8   -24.59.33.180    142.04        0.25     23.7         1   0.00026   \n",
       "13  -24.21.01.920    125.69        0.50     52.0         1   0.00028   \n",
       "\n",
       "    rms_model_profile Class Features  R_zoom  rms_model_percentage  Stage  \n",
       "7        2.990421e+09    II   Cavity    0.25              0.098999      4  \n",
       "8        2.809240e+09    II   Cavity    0.25              0.058618      4  \n",
       "13       2.829926e+09    II   Smooth    0.20              0.011777      0  "
      ]
     },
     "execution_count": 165,
     "metadata": {},
     "output_type": "execute_result"
    }
   ],
   "source": [
    "# And change a collumn name\n",
    "table_example_binaries = table_example_binaries.rename(columns={\"field\":\"name\"})\n",
    "table_example_binaries.head(3)"
   ]
  },
  {
   "cell_type": "code",
   "execution_count": 166,
   "id": "7f16c1c6",
   "metadata": {},
   "outputs": [
    {
     "name": "stdout",
     "output_type": "stream",
     "text": [
      "(0, 35)\n",
      "<class 'pandas.core.frame.DataFrame'>\n",
      "RangeIndex: 0 entries\n",
      "Data columns (total 35 columns):\n",
      " #   Column                  Non-Null Count  Dtype  \n",
      "---  ------                  --------------  -----  \n",
      " 0   id                      0 non-null      int64  \n",
      " 1   name                    0 non-null      object \n",
      " 2   beam_pa_x               0 non-null      float64\n",
      " 3   beam_maj_x              0 non-null      float64\n",
      " 4   beam_min_x              0 non-null      float64\n",
      " 5   center_x_x              0 non-null      object \n",
      " 6   center_y_x              0 non-null      object \n",
      " 7   Distance_x              0 non-null      float64\n",
      " 8   Rmax_frank_x            0 non-null      float64\n",
      " 9   B8_Flux_x               0 non-null      float64\n",
      " 10  isbinary_x              0 non-null      int64  \n",
      " 11  rms_data_x              0 non-null      float64\n",
      " 12  rms_model_profile_x     0 non-null      float64\n",
      " 13  Class_x                 0 non-null      object \n",
      " 14  Features_x              0 non-null      object \n",
      " 15  R_zoom_x                0 non-null      float64\n",
      " 16  rms_model_percentage_x  0 non-null      float64\n",
      " 17  Stage_x                 0 non-null      int64  \n",
      " 18  field                   0 non-null      object \n",
      " 19  beam_pa_y               0 non-null      float64\n",
      " 20  beam_maj_y              0 non-null      float64\n",
      " 21  beam_min_y              0 non-null      float64\n",
      " 22  center_x_y              0 non-null      object \n",
      " 23  center_y_y              0 non-null      object \n",
      " 24  Distance_y              0 non-null      float64\n",
      " 25  Rmax_frank_y            0 non-null      float64\n",
      " 26  B8_Flux_y               0 non-null      float64\n",
      " 27  isbinary_y              0 non-null      int64  \n",
      " 28  rms_data_y              0 non-null      float64\n",
      " 29  rms_model_profile_y     0 non-null      float64\n",
      " 30  Class_y                 0 non-null      object \n",
      " 31  Features_y              0 non-null      object \n",
      " 32  R_zoom_y                0 non-null      float64\n",
      " 33  rms_model_percentage_y  0 non-null      float64\n",
      " 34  Stage_y                 0 non-null      int64  \n",
      "dtypes: float64(20), int64(5), object(10)\n",
      "memory usage: 132.0+ bytes\n"
     ]
    }
   ],
   "source": [
    "# Now lets merge them\n",
    "\n",
    "table_merge = pd.merge(table_example_binaries,\n",
    "                       table_example_nobinaries,\n",
    "                       left_on=(\"id\",\"name\"),\n",
    "                       right_on=(\"id\",\"field\"))\n",
    "print(table_merge.shape)\n",
    "table_merge.info()\n",
    "\n",
    "#No indexes equal = empty dataframe but no error! Good for checking!"
   ]
  },
  {
   "cell_type": "markdown",
   "id": "e7df6296",
   "metadata": {},
   "source": [
    "## Lets open another table that can show better merging"
   ]
  },
  {
   "cell_type": "code",
   "execution_count": 167,
   "id": "f815b9a3",
   "metadata": {},
   "outputs": [
    {
     "data": {
      "application/vnd.microsoft.datawrangler.viewer.v0+json": {
       "columns": [
        {
         "name": "index",
         "rawType": "int64",
         "type": "integer"
        },
        {
         "name": "id",
         "rawType": "int64",
         "type": "integer"
        },
        {
         "name": "field",
         "rawType": "object",
         "type": "string"
        },
        {
         "name": "is model",
         "rawType": "bool",
         "type": "boolean"
        },
        {
         "name": "path",
         "rawType": "object",
         "type": "string"
        },
        {
         "name": "path_rad",
         "rawType": "object",
         "type": "string"
        }
       ],
       "ref": "64f63cc4-bf43-4848-af62-0a5d1794ccbf",
       "rows": [
        [
         "0",
         "0",
         "iso-oph_123",
         "False",
         "/home/pnogueira/chewiepoint/bhowmik_2025/fits_files/ISO-Oph_123_all_p0_bigmask.fits",
         "/home/pnogueira/chewiepoint/bhowmik_2025/frank_profiles/ISO-Oph_123_frank_profile_fit.txt"
        ],
        [
         "1",
         "1",
         "iso-oph_123",
         "True",
         "/home/pnogueira/chewiepoint/bhowmik_2025/fits_files/ISO-Oph_123_frank_model.fits",
         "/home/pnogueira/chewiepoint/bhowmik_2025/frank_profiles/ISO-Oph_123_frank_profile_fit.txt"
        ],
        [
         "2",
         "2",
         "iso-oph_13",
         "True",
         "/home/pnogueira/chewiepoint/bhowmik_2025/fits_files/ISO-Oph_13_frank_model.fits",
         "/home/pnogueira/chewiepoint/bhowmik_2025/frank_profiles/ISO-Oph_13_frank_profile_fit.txt"
        ],
        [
         "3",
         "3",
         "iso-oph_13",
         "False",
         "/home/pnogueira/chewiepoint/bhowmik_2025/fits_files/ISO-Oph_13_all_p0_bigmask.fits",
         "/home/pnogueira/chewiepoint/bhowmik_2025/frank_profiles/ISO-Oph_13_frank_profile_fit.txt"
        ]
       ],
       "shape": {
        "columns": 5,
        "rows": 4
       }
      },
      "text/html": [
       "<div>\n",
       "<style scoped>\n",
       "    .dataframe tbody tr th:only-of-type {\n",
       "        vertical-align: middle;\n",
       "    }\n",
       "\n",
       "    .dataframe tbody tr th {\n",
       "        vertical-align: top;\n",
       "    }\n",
       "\n",
       "    .dataframe thead th {\n",
       "        text-align: right;\n",
       "    }\n",
       "</style>\n",
       "<table border=\"1\" class=\"dataframe\">\n",
       "  <thead>\n",
       "    <tr style=\"text-align: right;\">\n",
       "      <th></th>\n",
       "      <th>id</th>\n",
       "      <th>field</th>\n",
       "      <th>is model</th>\n",
       "      <th>path</th>\n",
       "      <th>path_rad</th>\n",
       "    </tr>\n",
       "  </thead>\n",
       "  <tbody>\n",
       "    <tr>\n",
       "      <th>0</th>\n",
       "      <td>0</td>\n",
       "      <td>iso-oph_123</td>\n",
       "      <td>False</td>\n",
       "      <td>/home/pnogueira/chewiepoint/bhowmik_2025/fits_...</td>\n",
       "      <td>/home/pnogueira/chewiepoint/bhowmik_2025/frank...</td>\n",
       "    </tr>\n",
       "    <tr>\n",
       "      <th>1</th>\n",
       "      <td>1</td>\n",
       "      <td>iso-oph_123</td>\n",
       "      <td>True</td>\n",
       "      <td>/home/pnogueira/chewiepoint/bhowmik_2025/fits_...</td>\n",
       "      <td>/home/pnogueira/chewiepoint/bhowmik_2025/frank...</td>\n",
       "    </tr>\n",
       "    <tr>\n",
       "      <th>2</th>\n",
       "      <td>2</td>\n",
       "      <td>iso-oph_13</td>\n",
       "      <td>True</td>\n",
       "      <td>/home/pnogueira/chewiepoint/bhowmik_2025/fits_...</td>\n",
       "      <td>/home/pnogueira/chewiepoint/bhowmik_2025/frank...</td>\n",
       "    </tr>\n",
       "    <tr>\n",
       "      <th>3</th>\n",
       "      <td>3</td>\n",
       "      <td>iso-oph_13</td>\n",
       "      <td>False</td>\n",
       "      <td>/home/pnogueira/chewiepoint/bhowmik_2025/fits_...</td>\n",
       "      <td>/home/pnogueira/chewiepoint/bhowmik_2025/frank...</td>\n",
       "    </tr>\n",
       "  </tbody>\n",
       "</table>\n",
       "</div>"
      ],
      "text/plain": [
       "   id        field  is model  \\\n",
       "0   0  iso-oph_123     False   \n",
       "1   1  iso-oph_123      True   \n",
       "2   2   iso-oph_13      True   \n",
       "3   3   iso-oph_13     False   \n",
       "\n",
       "                                                path  \\\n",
       "0  /home/pnogueira/chewiepoint/bhowmik_2025/fits_...   \n",
       "1  /home/pnogueira/chewiepoint/bhowmik_2025/fits_...   \n",
       "2  /home/pnogueira/chewiepoint/bhowmik_2025/fits_...   \n",
       "3  /home/pnogueira/chewiepoint/bhowmik_2025/fits_...   \n",
       "\n",
       "                                            path_rad  \n",
       "0  /home/pnogueira/chewiepoint/bhowmik_2025/frank...  \n",
       "1  /home/pnogueira/chewiepoint/bhowmik_2025/frank...  \n",
       "2  /home/pnogueira/chewiepoint/bhowmik_2025/frank...  \n",
       "3  /home/pnogueira/chewiepoint/bhowmik_2025/frank...  "
      ]
     },
     "execution_count": 167,
     "metadata": {},
     "output_type": "execute_result"
    }
   ],
   "source": [
    "table = pd.read_csv(os.getcwd()+\"/fits_files.csv\")\n",
    "\n",
    "table.head(4)"
   ]
  },
  {
   "cell_type": "code",
   "execution_count": 168,
   "id": "aaa82c99",
   "metadata": {},
   "outputs": [
    {
     "data": {
      "application/vnd.microsoft.datawrangler.viewer.v0+json": {
       "columns": [
        {
         "name": "index",
         "rawType": "int64",
         "type": "integer"
        },
        {
         "name": "id",
         "rawType": "int64",
         "type": "integer"
        },
        {
         "name": "field",
         "rawType": "object",
         "type": "string"
        },
        {
         "name": "path",
         "rawType": "object",
         "type": "string"
        },
        {
         "name": "path_rad",
         "rawType": "object",
         "type": "string"
        }
       ],
       "ref": "efa5c3ed-6ad0-4f90-b2ad-ab50d8f0ea1e",
       "rows": [
        [
         "0",
         "0",
         "iso-oph_123",
         "/home/pnogueira/chewiepoint/bhowmik_2025/fits_files/ISO-Oph_123_all_p0_bigmask.fits",
         "/home/pnogueira/chewiepoint/bhowmik_2025/frank_profiles/ISO-Oph_123_frank_profile_fit.txt"
        ],
        [
         "1",
         "1",
         "iso-oph_13",
         "/home/pnogueira/chewiepoint/bhowmik_2025/fits_files/ISO-Oph_13_all_p0_bigmask.fits",
         "/home/pnogueira/chewiepoint/bhowmik_2025/frank_profiles/ISO-Oph_13_frank_profile_fit.txt"
        ],
        [
         "2",
         "2",
         "iso-oph_193",
         "/home/pnogueira/chewiepoint/bhowmik_2025/fits_files/ISO-Oph_193_all_p0_bigmask.fits",
         "/home/pnogueira/chewiepoint/bhowmik_2025/frank_profiles/ISO-Oph_193_frank_profile_fit.txt"
        ],
        [
         "3",
         "3",
         "iso-oph_208",
         "/home/pnogueira/chewiepoint/bhowmik_2025/fits_files/ISO-Oph_208_all_p0_bigmask.fits",
         "/home/pnogueira/chewiepoint/bhowmik_2025/frank_profiles/ISO-Oph_208_frank_profile_fit.txt"
        ]
       ],
       "shape": {
        "columns": 4,
        "rows": 4
       }
      },
      "text/html": [
       "<div>\n",
       "<style scoped>\n",
       "    .dataframe tbody tr th:only-of-type {\n",
       "        vertical-align: middle;\n",
       "    }\n",
       "\n",
       "    .dataframe tbody tr th {\n",
       "        vertical-align: top;\n",
       "    }\n",
       "\n",
       "    .dataframe thead th {\n",
       "        text-align: right;\n",
       "    }\n",
       "</style>\n",
       "<table border=\"1\" class=\"dataframe\">\n",
       "  <thead>\n",
       "    <tr style=\"text-align: right;\">\n",
       "      <th></th>\n",
       "      <th>id</th>\n",
       "      <th>field</th>\n",
       "      <th>path</th>\n",
       "      <th>path_rad</th>\n",
       "    </tr>\n",
       "  </thead>\n",
       "  <tbody>\n",
       "    <tr>\n",
       "      <th>0</th>\n",
       "      <td>0</td>\n",
       "      <td>iso-oph_123</td>\n",
       "      <td>/home/pnogueira/chewiepoint/bhowmik_2025/fits_...</td>\n",
       "      <td>/home/pnogueira/chewiepoint/bhowmik_2025/frank...</td>\n",
       "    </tr>\n",
       "    <tr>\n",
       "      <th>1</th>\n",
       "      <td>1</td>\n",
       "      <td>iso-oph_13</td>\n",
       "      <td>/home/pnogueira/chewiepoint/bhowmik_2025/fits_...</td>\n",
       "      <td>/home/pnogueira/chewiepoint/bhowmik_2025/frank...</td>\n",
       "    </tr>\n",
       "    <tr>\n",
       "      <th>2</th>\n",
       "      <td>2</td>\n",
       "      <td>iso-oph_193</td>\n",
       "      <td>/home/pnogueira/chewiepoint/bhowmik_2025/fits_...</td>\n",
       "      <td>/home/pnogueira/chewiepoint/bhowmik_2025/frank...</td>\n",
       "    </tr>\n",
       "    <tr>\n",
       "      <th>3</th>\n",
       "      <td>3</td>\n",
       "      <td>iso-oph_208</td>\n",
       "      <td>/home/pnogueira/chewiepoint/bhowmik_2025/fits_...</td>\n",
       "      <td>/home/pnogueira/chewiepoint/bhowmik_2025/frank...</td>\n",
       "    </tr>\n",
       "  </tbody>\n",
       "</table>\n",
       "</div>"
      ],
      "text/plain": [
       "   id        field                                               path  \\\n",
       "0   0  iso-oph_123  /home/pnogueira/chewiepoint/bhowmik_2025/fits_...   \n",
       "1   1   iso-oph_13  /home/pnogueira/chewiepoint/bhowmik_2025/fits_...   \n",
       "2   2  iso-oph_193  /home/pnogueira/chewiepoint/bhowmik_2025/fits_...   \n",
       "3   3  iso-oph_208  /home/pnogueira/chewiepoint/bhowmik_2025/fits_...   \n",
       "\n",
       "                                            path_rad  \n",
       "0  /home/pnogueira/chewiepoint/bhowmik_2025/frank...  \n",
       "1  /home/pnogueira/chewiepoint/bhowmik_2025/frank...  \n",
       "2  /home/pnogueira/chewiepoint/bhowmik_2025/frank...  \n",
       "3  /home/pnogueira/chewiepoint/bhowmik_2025/frank...  "
      ]
     },
     "execution_count": 168,
     "metadata": {},
     "output_type": "execute_result"
    }
   ],
   "source": [
    "\n",
    "table_realdata = table[table[\"is model\"]==False].drop(\"is model\",axis=1).reset_index(drop=True)\n",
    "table_realdata['id'] = table_realdata.index\n",
    "table_realdata.head(4)\n"
   ]
  },
  {
   "cell_type": "code",
   "execution_count": 169,
   "id": "24242377",
   "metadata": {},
   "outputs": [
    {
     "data": {
      "application/vnd.microsoft.datawrangler.viewer.v0+json": {
       "columns": [
        {
         "name": "index",
         "rawType": "int64",
         "type": "integer"
        },
        {
         "name": "id",
         "rawType": "int64",
         "type": "integer"
        },
        {
         "name": "field",
         "rawType": "object",
         "type": "string"
        },
        {
         "name": "path_model",
         "rawType": "object",
         "type": "string"
        },
        {
         "name": "path_rad",
         "rawType": "object",
         "type": "string"
        }
       ],
       "ref": "bc403fc2-f518-4052-a4a0-2b6555396ad7",
       "rows": [
        [
         "0",
         "0",
         "iso-oph_123",
         "/home/pnogueira/chewiepoint/bhowmik_2025/fits_files/ISO-Oph_123_frank_model.fits",
         "/home/pnogueira/chewiepoint/bhowmik_2025/frank_profiles/ISO-Oph_123_frank_profile_fit.txt"
        ],
        [
         "1",
         "1",
         "iso-oph_13",
         "/home/pnogueira/chewiepoint/bhowmik_2025/fits_files/ISO-Oph_13_frank_model.fits",
         "/home/pnogueira/chewiepoint/bhowmik_2025/frank_profiles/ISO-Oph_13_frank_profile_fit.txt"
        ],
        [
         "2",
         "2",
         "iso-oph_193",
         "/home/pnogueira/chewiepoint/bhowmik_2025/fits_files/ISO-Oph_193_frank_model.fits",
         "/home/pnogueira/chewiepoint/bhowmik_2025/frank_profiles/ISO-Oph_193_frank_profile_fit.txt"
        ],
        [
         "3",
         "3",
         "iso-oph_208",
         "/home/pnogueira/chewiepoint/bhowmik_2025/fits_files/ISO-Oph_208_frank_model.fits",
         "/home/pnogueira/chewiepoint/bhowmik_2025/frank_profiles/ISO-Oph_208_frank_profile_fit.txt"
        ]
       ],
       "shape": {
        "columns": 4,
        "rows": 4
       }
      },
      "text/html": [
       "<div>\n",
       "<style scoped>\n",
       "    .dataframe tbody tr th:only-of-type {\n",
       "        vertical-align: middle;\n",
       "    }\n",
       "\n",
       "    .dataframe tbody tr th {\n",
       "        vertical-align: top;\n",
       "    }\n",
       "\n",
       "    .dataframe thead th {\n",
       "        text-align: right;\n",
       "    }\n",
       "</style>\n",
       "<table border=\"1\" class=\"dataframe\">\n",
       "  <thead>\n",
       "    <tr style=\"text-align: right;\">\n",
       "      <th></th>\n",
       "      <th>id</th>\n",
       "      <th>field</th>\n",
       "      <th>path_model</th>\n",
       "      <th>path_rad</th>\n",
       "    </tr>\n",
       "  </thead>\n",
       "  <tbody>\n",
       "    <tr>\n",
       "      <th>0</th>\n",
       "      <td>0</td>\n",
       "      <td>iso-oph_123</td>\n",
       "      <td>/home/pnogueira/chewiepoint/bhowmik_2025/fits_...</td>\n",
       "      <td>/home/pnogueira/chewiepoint/bhowmik_2025/frank...</td>\n",
       "    </tr>\n",
       "    <tr>\n",
       "      <th>1</th>\n",
       "      <td>1</td>\n",
       "      <td>iso-oph_13</td>\n",
       "      <td>/home/pnogueira/chewiepoint/bhowmik_2025/fits_...</td>\n",
       "      <td>/home/pnogueira/chewiepoint/bhowmik_2025/frank...</td>\n",
       "    </tr>\n",
       "    <tr>\n",
       "      <th>2</th>\n",
       "      <td>2</td>\n",
       "      <td>iso-oph_193</td>\n",
       "      <td>/home/pnogueira/chewiepoint/bhowmik_2025/fits_...</td>\n",
       "      <td>/home/pnogueira/chewiepoint/bhowmik_2025/frank...</td>\n",
       "    </tr>\n",
       "    <tr>\n",
       "      <th>3</th>\n",
       "      <td>3</td>\n",
       "      <td>iso-oph_208</td>\n",
       "      <td>/home/pnogueira/chewiepoint/bhowmik_2025/fits_...</td>\n",
       "      <td>/home/pnogueira/chewiepoint/bhowmik_2025/frank...</td>\n",
       "    </tr>\n",
       "  </tbody>\n",
       "</table>\n",
       "</div>"
      ],
      "text/plain": [
       "   id        field                                         path_model  \\\n",
       "0   0  iso-oph_123  /home/pnogueira/chewiepoint/bhowmik_2025/fits_...   \n",
       "1   1   iso-oph_13  /home/pnogueira/chewiepoint/bhowmik_2025/fits_...   \n",
       "2   2  iso-oph_193  /home/pnogueira/chewiepoint/bhowmik_2025/fits_...   \n",
       "3   3  iso-oph_208  /home/pnogueira/chewiepoint/bhowmik_2025/fits_...   \n",
       "\n",
       "                                            path_rad  \n",
       "0  /home/pnogueira/chewiepoint/bhowmik_2025/frank...  \n",
       "1  /home/pnogueira/chewiepoint/bhowmik_2025/frank...  \n",
       "2  /home/pnogueira/chewiepoint/bhowmik_2025/frank...  \n",
       "3  /home/pnogueira/chewiepoint/bhowmik_2025/frank...  "
      ]
     },
     "execution_count": 169,
     "metadata": {},
     "output_type": "execute_result"
    }
   ],
   "source": [
    "table_model = table[table[\"is model\"]==True].drop(\"is model\",axis=1).reset_index(drop=True)\n",
    "table_model['id'] = table_model.index\n",
    "table_model = table_model.rename(columns={'path':'path_model'})\n",
    "table_model.head(4)"
   ]
  },
  {
   "cell_type": "code",
   "execution_count": 170,
   "id": "f675ec0b",
   "metadata": {},
   "outputs": [
    {
     "name": "stdout",
     "output_type": "stream",
     "text": [
      "(101, 4) (101, 4)\n"
     ]
    }
   ],
   "source": [
    "print(table_realdata.shape,table_model.shape)"
   ]
  },
  {
   "cell_type": "code",
   "execution_count": 171,
   "id": "eb5941c8",
   "metadata": {},
   "outputs": [
    {
     "data": {
      "application/vnd.microsoft.datawrangler.viewer.v0+json": {
       "columns": [
        {
         "name": "index",
         "rawType": "int64",
         "type": "integer"
        },
        {
         "name": "id",
         "rawType": "int64",
         "type": "integer"
        },
        {
         "name": "field",
         "rawType": "object",
         "type": "string"
        },
        {
         "name": "path_model",
         "rawType": "object",
         "type": "string"
        },
        {
         "name": "path_rad",
         "rawType": "object",
         "type": "string"
        }
       ],
       "ref": "a5c349b5-a80c-4a00-8815-4f386ec0f6b7",
       "rows": [
        [
         "0",
         "0",
         "iso-oph_123",
         "/home/pnogueira/chewiepoint/bhowmik_2025/fits_files/ISO-Oph_123_frank_model.fits",
         "/home/pnogueira/chewiepoint/bhowmik_2025/frank_profiles/ISO-Oph_123_frank_profile_fit.txt"
        ],
        [
         "1",
         "1",
         "iso-oph_13",
         "/home/pnogueira/chewiepoint/bhowmik_2025/fits_files/ISO-Oph_13_frank_model.fits",
         "/home/pnogueira/chewiepoint/bhowmik_2025/frank_profiles/ISO-Oph_13_frank_profile_fit.txt"
        ],
        [
         "3",
         "3",
         "iso-oph_208",
         "/home/pnogueira/chewiepoint/bhowmik_2025/fits_files/ISO-Oph_208_frank_model.fits",
         "/home/pnogueira/chewiepoint/bhowmik_2025/frank_profiles/ISO-Oph_208_frank_profile_fit.txt"
        ],
        [
         "4",
         "4",
         "odisea_c4_001",
         "/home/pnogueira/chewiepoint/bhowmik_2025/fits_files/ODISEA_C4_001_frank_model.fits",
         "/home/pnogueira/chewiepoint/bhowmik_2025/frank_profiles/ODISEA_C4_001_frank_profile_fit.txt"
        ]
       ],
       "shape": {
        "columns": 4,
        "rows": 4
       }
      },
      "text/html": [
       "<div>\n",
       "<style scoped>\n",
       "    .dataframe tbody tr th:only-of-type {\n",
       "        vertical-align: middle;\n",
       "    }\n",
       "\n",
       "    .dataframe tbody tr th {\n",
       "        vertical-align: top;\n",
       "    }\n",
       "\n",
       "    .dataframe thead th {\n",
       "        text-align: right;\n",
       "    }\n",
       "</style>\n",
       "<table border=\"1\" class=\"dataframe\">\n",
       "  <thead>\n",
       "    <tr style=\"text-align: right;\">\n",
       "      <th></th>\n",
       "      <th>id</th>\n",
       "      <th>field</th>\n",
       "      <th>path_model</th>\n",
       "      <th>path_rad</th>\n",
       "    </tr>\n",
       "  </thead>\n",
       "  <tbody>\n",
       "    <tr>\n",
       "      <th>0</th>\n",
       "      <td>0</td>\n",
       "      <td>iso-oph_123</td>\n",
       "      <td>/home/pnogueira/chewiepoint/bhowmik_2025/fits_...</td>\n",
       "      <td>/home/pnogueira/chewiepoint/bhowmik_2025/frank...</td>\n",
       "    </tr>\n",
       "    <tr>\n",
       "      <th>1</th>\n",
       "      <td>1</td>\n",
       "      <td>iso-oph_13</td>\n",
       "      <td>/home/pnogueira/chewiepoint/bhowmik_2025/fits_...</td>\n",
       "      <td>/home/pnogueira/chewiepoint/bhowmik_2025/frank...</td>\n",
       "    </tr>\n",
       "    <tr>\n",
       "      <th>3</th>\n",
       "      <td>3</td>\n",
       "      <td>iso-oph_208</td>\n",
       "      <td>/home/pnogueira/chewiepoint/bhowmik_2025/fits_...</td>\n",
       "      <td>/home/pnogueira/chewiepoint/bhowmik_2025/frank...</td>\n",
       "    </tr>\n",
       "    <tr>\n",
       "      <th>4</th>\n",
       "      <td>4</td>\n",
       "      <td>odisea_c4_001</td>\n",
       "      <td>/home/pnogueira/chewiepoint/bhowmik_2025/fits_...</td>\n",
       "      <td>/home/pnogueira/chewiepoint/bhowmik_2025/frank...</td>\n",
       "    </tr>\n",
       "  </tbody>\n",
       "</table>\n",
       "</div>"
      ],
      "text/plain": [
       "   id          field                                         path_model  \\\n",
       "0   0    iso-oph_123  /home/pnogueira/chewiepoint/bhowmik_2025/fits_...   \n",
       "1   1     iso-oph_13  /home/pnogueira/chewiepoint/bhowmik_2025/fits_...   \n",
       "3   3    iso-oph_208  /home/pnogueira/chewiepoint/bhowmik_2025/fits_...   \n",
       "4   4  odisea_c4_001  /home/pnogueira/chewiepoint/bhowmik_2025/fits_...   \n",
       "\n",
       "                                            path_rad  \n",
       "0  /home/pnogueira/chewiepoint/bhowmik_2025/frank...  \n",
       "1  /home/pnogueira/chewiepoint/bhowmik_2025/frank...  \n",
       "3  /home/pnogueira/chewiepoint/bhowmik_2025/frank...  \n",
       "4  /home/pnogueira/chewiepoint/bhowmik_2025/frank...  "
      ]
     },
     "execution_count": 171,
     "metadata": {},
     "output_type": "execute_result"
    }
   ],
   "source": [
    "## Now lets remove a line from model\n",
    "table_model = table_model.drop(2)\n",
    "table_model.head(4)"
   ]
  },
  {
   "cell_type": "code",
   "execution_count": 172,
   "id": "557e476c",
   "metadata": {},
   "outputs": [
    {
     "name": "stdout",
     "output_type": "stream",
     "text": [
      "(101, 4) (100, 4)\n"
     ]
    }
   ],
   "source": [
    "print(table_realdata.shape,table_model.shape)"
   ]
  },
  {
   "cell_type": "markdown",
   "id": "7174be11",
   "metadata": {},
   "source": [
    "## Now merging!"
   ]
  },
  {
   "cell_type": "code",
   "execution_count": 173,
   "id": "2eddb06a",
   "metadata": {},
   "outputs": [
    {
     "name": "stdout",
     "output_type": "stream",
     "text": [
      "<class 'pandas.core.frame.DataFrame'>\n",
      "RangeIndex: 100 entries, 0 to 99\n",
      "Data columns (total 5 columns):\n",
      " #   Column      Non-Null Count  Dtype \n",
      "---  ------      --------------  ----- \n",
      " 0   id          100 non-null    int64 \n",
      " 1   field       100 non-null    object\n",
      " 2   path        100 non-null    object\n",
      " 3   path_rad    100 non-null    object\n",
      " 4   path_model  100 non-null    object\n",
      "dtypes: int64(1), object(4)\n",
      "memory usage: 4.0+ KB\n"
     ]
    }
   ],
   "source": [
    "table_nomodelcol =  pd.merge(table_realdata,\n",
    "                          table_model,\n",
    "                          left_on=(\"field\",\"id\",\"path_rad\"),\n",
    "                          right_on=(\"field\",\"id\",\"path_rad\"),\n",
    "                          validate='1:1')\n",
    "table_nomodelcol.info()"
   ]
  },
  {
   "cell_type": "code",
   "execution_count": 174,
   "id": "aee3594e",
   "metadata": {},
   "outputs": [
    {
     "data": {
      "application/vnd.microsoft.datawrangler.viewer.v0+json": {
       "columns": [
        {
         "name": "index",
         "rawType": "int64",
         "type": "integer"
        },
        {
         "name": "id",
         "rawType": "int64",
         "type": "integer"
        },
        {
         "name": "field",
         "rawType": "object",
         "type": "string"
        },
        {
         "name": "path",
         "rawType": "object",
         "type": "string"
        },
        {
         "name": "path_rad",
         "rawType": "object",
         "type": "string"
        },
        {
         "name": "path_model",
         "rawType": "object",
         "type": "string"
        }
       ],
       "ref": "08365b7c-ad9c-45e7-8e42-41c0d7d2983f",
       "rows": [
        [
         "0",
         "0",
         "iso-oph_123",
         "/home/pnogueira/chewiepoint/bhowmik_2025/fits_files/ISO-Oph_123_all_p0_bigmask.fits",
         "/home/pnogueira/chewiepoint/bhowmik_2025/frank_profiles/ISO-Oph_123_frank_profile_fit.txt",
         "/home/pnogueira/chewiepoint/bhowmik_2025/fits_files/ISO-Oph_123_frank_model.fits"
        ],
        [
         "1",
         "1",
         "iso-oph_13",
         "/home/pnogueira/chewiepoint/bhowmik_2025/fits_files/ISO-Oph_13_all_p0_bigmask.fits",
         "/home/pnogueira/chewiepoint/bhowmik_2025/frank_profiles/ISO-Oph_13_frank_profile_fit.txt",
         "/home/pnogueira/chewiepoint/bhowmik_2025/fits_files/ISO-Oph_13_frank_model.fits"
        ],
        [
         "2",
         "3",
         "iso-oph_208",
         "/home/pnogueira/chewiepoint/bhowmik_2025/fits_files/ISO-Oph_208_all_p0_bigmask.fits",
         "/home/pnogueira/chewiepoint/bhowmik_2025/frank_profiles/ISO-Oph_208_frank_profile_fit.txt",
         "/home/pnogueira/chewiepoint/bhowmik_2025/fits_files/ISO-Oph_208_frank_model.fits"
        ],
        [
         "3",
         "4",
         "odisea_c4_001",
         "/home/pnogueira/chewiepoint/bhowmik_2025/fits_files/ODISEA_C4_001_all_p0_bigmask.fits",
         "/home/pnogueira/chewiepoint/bhowmik_2025/frank_profiles/ODISEA_C4_001_frank_profile_fit.txt",
         "/home/pnogueira/chewiepoint/bhowmik_2025/fits_files/ODISEA_C4_001_frank_model.fits"
        ]
       ],
       "shape": {
        "columns": 5,
        "rows": 4
       }
      },
      "text/html": [
       "<div>\n",
       "<style scoped>\n",
       "    .dataframe tbody tr th:only-of-type {\n",
       "        vertical-align: middle;\n",
       "    }\n",
       "\n",
       "    .dataframe tbody tr th {\n",
       "        vertical-align: top;\n",
       "    }\n",
       "\n",
       "    .dataframe thead th {\n",
       "        text-align: right;\n",
       "    }\n",
       "</style>\n",
       "<table border=\"1\" class=\"dataframe\">\n",
       "  <thead>\n",
       "    <tr style=\"text-align: right;\">\n",
       "      <th></th>\n",
       "      <th>id</th>\n",
       "      <th>field</th>\n",
       "      <th>path</th>\n",
       "      <th>path_rad</th>\n",
       "      <th>path_model</th>\n",
       "    </tr>\n",
       "  </thead>\n",
       "  <tbody>\n",
       "    <tr>\n",
       "      <th>0</th>\n",
       "      <td>0</td>\n",
       "      <td>iso-oph_123</td>\n",
       "      <td>/home/pnogueira/chewiepoint/bhowmik_2025/fits_...</td>\n",
       "      <td>/home/pnogueira/chewiepoint/bhowmik_2025/frank...</td>\n",
       "      <td>/home/pnogueira/chewiepoint/bhowmik_2025/fits_...</td>\n",
       "    </tr>\n",
       "    <tr>\n",
       "      <th>1</th>\n",
       "      <td>1</td>\n",
       "      <td>iso-oph_13</td>\n",
       "      <td>/home/pnogueira/chewiepoint/bhowmik_2025/fits_...</td>\n",
       "      <td>/home/pnogueira/chewiepoint/bhowmik_2025/frank...</td>\n",
       "      <td>/home/pnogueira/chewiepoint/bhowmik_2025/fits_...</td>\n",
       "    </tr>\n",
       "    <tr>\n",
       "      <th>2</th>\n",
       "      <td>3</td>\n",
       "      <td>iso-oph_208</td>\n",
       "      <td>/home/pnogueira/chewiepoint/bhowmik_2025/fits_...</td>\n",
       "      <td>/home/pnogueira/chewiepoint/bhowmik_2025/frank...</td>\n",
       "      <td>/home/pnogueira/chewiepoint/bhowmik_2025/fits_...</td>\n",
       "    </tr>\n",
       "    <tr>\n",
       "      <th>3</th>\n",
       "      <td>4</td>\n",
       "      <td>odisea_c4_001</td>\n",
       "      <td>/home/pnogueira/chewiepoint/bhowmik_2025/fits_...</td>\n",
       "      <td>/home/pnogueira/chewiepoint/bhowmik_2025/frank...</td>\n",
       "      <td>/home/pnogueira/chewiepoint/bhowmik_2025/fits_...</td>\n",
       "    </tr>\n",
       "  </tbody>\n",
       "</table>\n",
       "</div>"
      ],
      "text/plain": [
       "   id          field                                               path  \\\n",
       "0   0    iso-oph_123  /home/pnogueira/chewiepoint/bhowmik_2025/fits_...   \n",
       "1   1     iso-oph_13  /home/pnogueira/chewiepoint/bhowmik_2025/fits_...   \n",
       "2   3    iso-oph_208  /home/pnogueira/chewiepoint/bhowmik_2025/fits_...   \n",
       "3   4  odisea_c4_001  /home/pnogueira/chewiepoint/bhowmik_2025/fits_...   \n",
       "\n",
       "                                            path_rad  \\\n",
       "0  /home/pnogueira/chewiepoint/bhowmik_2025/frank...   \n",
       "1  /home/pnogueira/chewiepoint/bhowmik_2025/frank...   \n",
       "2  /home/pnogueira/chewiepoint/bhowmik_2025/frank...   \n",
       "3  /home/pnogueira/chewiepoint/bhowmik_2025/frank...   \n",
       "\n",
       "                                          path_model  \n",
       "0  /home/pnogueira/chewiepoint/bhowmik_2025/fits_...  \n",
       "1  /home/pnogueira/chewiepoint/bhowmik_2025/fits_...  \n",
       "2  /home/pnogueira/chewiepoint/bhowmik_2025/fits_...  \n",
       "3  /home/pnogueira/chewiepoint/bhowmik_2025/fits_...  "
      ]
     },
     "execution_count": 174,
     "metadata": {},
     "output_type": "execute_result"
    }
   ],
   "source": [
    "table_nomodelcol.head(4)\n"
   ]
  },
  {
   "cell_type": "code",
   "execution_count": 175,
   "id": "9ade1f56",
   "metadata": {},
   "outputs": [
    {
     "name": "stdout",
     "output_type": "stream",
     "text": [
      "(100, 5)\n"
     ]
    }
   ],
   "source": [
    "print(table_nomodelcol.shape)"
   ]
  },
  {
   "cell_type": "markdown",
   "id": "9a6aad9b",
   "metadata": {},
   "source": [
    "## Applying functions and grouping columns"
   ]
  },
  {
   "cell_type": "code",
   "execution_count": 176,
   "id": "28fffaf0",
   "metadata": {},
   "outputs": [],
   "source": [
    "table_example3 = pd.read_csv(os.path.join(os.getcwd(),\"table.csv\"))\n",
    "\n",
    "\n",
    "####Now fix the center_x and center_y for using of astropy before exporting\n",
    "# full table:\n",
    "def fix_center_x(s):\n",
    "    # If there are 3 colons, replace the last colon with a dot\n",
    "    if s.count(':') == 3:\n",
    "        s = s[::-1].replace(':', '.', 1)[::-1]\n",
    "    return s\n",
    "    # example -> 16:25:02:008 will become 16:25:02.008\n",
    "\n",
    "def fix_center_y(s):\n",
    "    # Replace the first two dots with colons\n",
    "    return s.replace('.', ':', 2)\n",
    "    # example -> -24.21.00.170 will become -24:21:00.170\n",
    "\n",
    "table_example3['center_x'] = table_example3['center_x'].astype(str).apply(fix_center_x)\n",
    "table_example3['center_y'] = table_example3['center_y'].astype(str).apply(fix_center_y)\n"
   ]
  },
  {
   "cell_type": "code",
   "execution_count": 177,
   "id": "c6742026",
   "metadata": {},
   "outputs": [
    {
     "data": {
      "application/vnd.microsoft.datawrangler.viewer.v0+json": {
       "columns": [
        {
         "name": "index",
         "rawType": "int64",
         "type": "integer"
        },
        {
         "name": "id",
         "rawType": "int64",
         "type": "integer"
        },
        {
         "name": "field",
         "rawType": "object",
         "type": "string"
        },
        {
         "name": "beam_pa",
         "rawType": "float64",
         "type": "float"
        },
        {
         "name": "beam_maj",
         "rawType": "float64",
         "type": "float"
        },
        {
         "name": "beam_min",
         "rawType": "float64",
         "type": "float"
        },
        {
         "name": "center_x",
         "rawType": "object",
         "type": "string"
        },
        {
         "name": "center_y",
         "rawType": "object",
         "type": "string"
        },
        {
         "name": "Distance",
         "rawType": "float64",
         "type": "float"
        },
        {
         "name": "Rmax_frank",
         "rawType": "float64",
         "type": "float"
        },
        {
         "name": "B8_Flux",
         "rawType": "float64",
         "type": "float"
        },
        {
         "name": "isbinary",
         "rawType": "int64",
         "type": "integer"
        },
        {
         "name": "rms_data",
         "rawType": "float64",
         "type": "float"
        },
        {
         "name": "rms_model_profile",
         "rawType": "float64",
         "type": "float"
        },
        {
         "name": "Class",
         "rawType": "object",
         "type": "string"
        },
        {
         "name": "Features",
         "rawType": "object",
         "type": "string"
        },
        {
         "name": "R_zoom",
         "rawType": "float64",
         "type": "float"
        },
        {
         "name": "rms_model_percentage",
         "rawType": "float64",
         "type": "float"
        },
        {
         "name": "Stage",
         "rawType": "int64",
         "type": "integer"
        }
       ],
       "ref": "5e1ec419-c4ca-45ea-a88e-b5bc17fecefc",
       "rows": [
        [
         "0",
         "0",
         "ISO-Oph_123",
         "-88.46908",
         "0.06534",
         "0.05455",
         "16:27:17.5744",
         "-24:05:14.300",
         "136.58",
         "0.5",
         "28.9",
         "0",
         "0.00038",
         "4003099394.32577",
         "II",
         "Smooth",
         "0.25",
         "0.088586566170015",
         "0"
        ],
        [
         "1",
         "1",
         "ISO-Oph_13",
         "86.27869",
         "0.06455",
         "0.05194",
         "16:26:07.032",
         "-24:27:24.800",
         "139.4",
         "0.5",
         "25.1",
         "0",
         "0.00039",
         "4367702778.83606",
         "II",
         "Smooth",
         "0.3",
         "0.147875632051979",
         "0"
        ],
        [
         "2",
         "2",
         "ISO-Oph_193",
         "-86.48737",
         "0.06742",
         "0.0551",
         "16:28:12.713",
         "-24:11:36.340",
         "151.74",
         "0.5",
         "11.57",
         "0",
         "0.00047",
         "4750553056.10056",
         "II",
         "Smooth",
         "0.25",
         "0.051123363461826",
         "0"
        ],
        [
         "3",
         "3",
         "ISO-Oph_208",
         "77.19341",
         "0.06774",
         "0.05403",
         "16:31:59.319",
         "-24:54:41.140",
         "152.16",
         "0.5",
         "57.1",
         "0",
         "0.00037",
         "3795842867.97542",
         "II",
         "Gap",
         "0.5",
         "0.04475803463792",
         "2"
        ]
       ],
       "shape": {
        "columns": 18,
        "rows": 4
       }
      },
      "text/html": [
       "<div>\n",
       "<style scoped>\n",
       "    .dataframe tbody tr th:only-of-type {\n",
       "        vertical-align: middle;\n",
       "    }\n",
       "\n",
       "    .dataframe tbody tr th {\n",
       "        vertical-align: top;\n",
       "    }\n",
       "\n",
       "    .dataframe thead th {\n",
       "        text-align: right;\n",
       "    }\n",
       "</style>\n",
       "<table border=\"1\" class=\"dataframe\">\n",
       "  <thead>\n",
       "    <tr style=\"text-align: right;\">\n",
       "      <th></th>\n",
       "      <th>id</th>\n",
       "      <th>field</th>\n",
       "      <th>beam_pa</th>\n",
       "      <th>beam_maj</th>\n",
       "      <th>beam_min</th>\n",
       "      <th>center_x</th>\n",
       "      <th>center_y</th>\n",
       "      <th>Distance</th>\n",
       "      <th>Rmax_frank</th>\n",
       "      <th>B8_Flux</th>\n",
       "      <th>isbinary</th>\n",
       "      <th>rms_data</th>\n",
       "      <th>rms_model_profile</th>\n",
       "      <th>Class</th>\n",
       "      <th>Features</th>\n",
       "      <th>R_zoom</th>\n",
       "      <th>rms_model_percentage</th>\n",
       "      <th>Stage</th>\n",
       "    </tr>\n",
       "  </thead>\n",
       "  <tbody>\n",
       "    <tr>\n",
       "      <th>0</th>\n",
       "      <td>0</td>\n",
       "      <td>ISO-Oph_123</td>\n",
       "      <td>-88.46908</td>\n",
       "      <td>0.06534</td>\n",
       "      <td>0.05455</td>\n",
       "      <td>16:27:17.5744</td>\n",
       "      <td>-24:05:14.300</td>\n",
       "      <td>136.58</td>\n",
       "      <td>0.5</td>\n",
       "      <td>28.90</td>\n",
       "      <td>0</td>\n",
       "      <td>0.00038</td>\n",
       "      <td>4.003099e+09</td>\n",
       "      <td>II</td>\n",
       "      <td>Smooth</td>\n",
       "      <td>0.25</td>\n",
       "      <td>0.088587</td>\n",
       "      <td>0</td>\n",
       "    </tr>\n",
       "    <tr>\n",
       "      <th>1</th>\n",
       "      <td>1</td>\n",
       "      <td>ISO-Oph_13</td>\n",
       "      <td>86.27869</td>\n",
       "      <td>0.06455</td>\n",
       "      <td>0.05194</td>\n",
       "      <td>16:26:07.032</td>\n",
       "      <td>-24:27:24.800</td>\n",
       "      <td>139.40</td>\n",
       "      <td>0.5</td>\n",
       "      <td>25.10</td>\n",
       "      <td>0</td>\n",
       "      <td>0.00039</td>\n",
       "      <td>4.367703e+09</td>\n",
       "      <td>II</td>\n",
       "      <td>Smooth</td>\n",
       "      <td>0.30</td>\n",
       "      <td>0.147876</td>\n",
       "      <td>0</td>\n",
       "    </tr>\n",
       "    <tr>\n",
       "      <th>2</th>\n",
       "      <td>2</td>\n",
       "      <td>ISO-Oph_193</td>\n",
       "      <td>-86.48737</td>\n",
       "      <td>0.06742</td>\n",
       "      <td>0.05510</td>\n",
       "      <td>16:28:12.713</td>\n",
       "      <td>-24:11:36.340</td>\n",
       "      <td>151.74</td>\n",
       "      <td>0.5</td>\n",
       "      <td>11.57</td>\n",
       "      <td>0</td>\n",
       "      <td>0.00047</td>\n",
       "      <td>4.750553e+09</td>\n",
       "      <td>II</td>\n",
       "      <td>Smooth</td>\n",
       "      <td>0.25</td>\n",
       "      <td>0.051123</td>\n",
       "      <td>0</td>\n",
       "    </tr>\n",
       "    <tr>\n",
       "      <th>3</th>\n",
       "      <td>3</td>\n",
       "      <td>ISO-Oph_208</td>\n",
       "      <td>77.19341</td>\n",
       "      <td>0.06774</td>\n",
       "      <td>0.05403</td>\n",
       "      <td>16:31:59.319</td>\n",
       "      <td>-24:54:41.140</td>\n",
       "      <td>152.16</td>\n",
       "      <td>0.5</td>\n",
       "      <td>57.10</td>\n",
       "      <td>0</td>\n",
       "      <td>0.00037</td>\n",
       "      <td>3.795843e+09</td>\n",
       "      <td>II</td>\n",
       "      <td>Gap</td>\n",
       "      <td>0.50</td>\n",
       "      <td>0.044758</td>\n",
       "      <td>2</td>\n",
       "    </tr>\n",
       "  </tbody>\n",
       "</table>\n",
       "</div>"
      ],
      "text/plain": [
       "   id        field   beam_pa  beam_maj  beam_min       center_x  \\\n",
       "0   0  ISO-Oph_123 -88.46908   0.06534   0.05455  16:27:17.5744   \n",
       "1   1   ISO-Oph_13  86.27869   0.06455   0.05194   16:26:07.032   \n",
       "2   2  ISO-Oph_193 -86.48737   0.06742   0.05510   16:28:12.713   \n",
       "3   3  ISO-Oph_208  77.19341   0.06774   0.05403   16:31:59.319   \n",
       "\n",
       "        center_y  Distance  Rmax_frank  B8_Flux  isbinary  rms_data  \\\n",
       "0  -24:05:14.300    136.58         0.5    28.90         0   0.00038   \n",
       "1  -24:27:24.800    139.40         0.5    25.10         0   0.00039   \n",
       "2  -24:11:36.340    151.74         0.5    11.57         0   0.00047   \n",
       "3  -24:54:41.140    152.16         0.5    57.10         0   0.00037   \n",
       "\n",
       "   rms_model_profile Class Features  R_zoom  rms_model_percentage  Stage  \n",
       "0       4.003099e+09    II   Smooth    0.25              0.088587      0  \n",
       "1       4.367703e+09    II   Smooth    0.30              0.147876      0  \n",
       "2       4.750553e+09    II   Smooth    0.25              0.051123      0  \n",
       "3       3.795843e+09    II      Gap    0.50              0.044758      2  "
      ]
     },
     "execution_count": 177,
     "metadata": {},
     "output_type": "execute_result"
    }
   ],
   "source": [
    "table_example3.head(4)"
   ]
  },
  {
   "cell_type": "code",
   "execution_count": 178,
   "id": "13fd48a7",
   "metadata": {},
   "outputs": [],
   "source": [
    "table_example3['Class'] = table_example3['Class'].replace({'I': 'I_F', 'F': 'I_F'})\n",
    "table_example3[\"Group\"] = table_example3[\"Stage\"].astype(str) + \"+\" + table_example3[\"Class\"]\n",
    "table_example3[\"Group\"] = table_example3[\"Group\"].str.strip()"
   ]
  },
  {
   "cell_type": "code",
   "execution_count": 179,
   "id": "7b77f3bc",
   "metadata": {},
   "outputs": [
    {
     "name": "stdout",
     "output_type": "stream",
     "text": [
      "['0+II' '2+II' '0+I_F' '4+II' '2+I_F' '5+I_F' '4+I_F' '1+II' '1+I_F'\n",
      " '3+II' '5+II']\n",
      "11\n"
     ]
    }
   ],
   "source": [
    "print(table_example3[\"Group\"].unique())\n",
    "print(table_example3[\"Group\"].nunique())"
   ]
  },
  {
   "cell_type": "markdown",
   "id": "e12a0060",
   "metadata": {},
   "source": [
    "## Now, you check How many unique objects you heave per group!"
   ]
  },
  {
   "cell_type": "code",
   "execution_count": 180,
   "id": "ccc5cfde",
   "metadata": {},
   "outputs": [
    {
     "data": {
      "application/vnd.microsoft.datawrangler.viewer.v0+json": {
       "columns": [
        {
         "name": "Group",
         "rawType": "object",
         "type": "string"
        },
        {
         "name": "id",
         "rawType": "int64",
         "type": "integer"
        }
       ],
       "ref": "3b3648f1-977d-4089-8893-5ad1931e1aa2",
       "rows": [
        [
         "0+II",
         "29"
        ],
        [
         "0+I_F",
         "33"
        ],
        [
         "1+II",
         "3"
        ],
        [
         "1+I_F",
         "8"
        ],
        [
         "2+II",
         "6"
        ],
        [
         "2+I_F",
         "5"
        ],
        [
         "3+II",
         "2"
        ],
        [
         "4+II",
         "7"
        ],
        [
         "4+I_F",
         "2"
        ],
        [
         "5+II",
         "4"
        ],
        [
         "5+I_F",
         "2"
        ]
       ],
       "shape": {
        "columns": 1,
        "rows": 11
       }
      },
      "text/plain": [
       "Group\n",
       "0+II     29\n",
       "0+I_F    33\n",
       "1+II      3\n",
       "1+I_F     8\n",
       "2+II      6\n",
       "2+I_F     5\n",
       "3+II      2\n",
       "4+II      7\n",
       "4+I_F     2\n",
       "5+II      4\n",
       "5+I_F     2\n",
       "Name: id, dtype: int64"
      ]
     },
     "execution_count": 180,
     "metadata": {},
     "output_type": "execute_result"
    }
   ],
   "source": [
    "table_example3.groupby(\"Group\")[\"id\"].nunique()"
   ]
  },
  {
   "cell_type": "markdown",
   "id": "748ad209",
   "metadata": {},
   "source": [
    "## AND FINALLY SAVING"
   ]
  },
  {
   "cell_type": "code",
   "execution_count": 181,
   "id": "f1459aa9",
   "metadata": {},
   "outputs": [],
   "source": [
    "table_example3.to_csv(\"./example.csv\",index=False)"
   ]
  }
 ],
 "metadata": {
  "kernelspec": {
   "display_name": "base",
   "language": "python",
   "name": "python3"
  },
  "language_info": {
   "codemirror_mode": {
    "name": "ipython",
    "version": 3
   },
   "file_extension": ".py",
   "mimetype": "text/x-python",
   "name": "python",
   "nbconvert_exporter": "python",
   "pygments_lexer": "ipython3",
   "version": "3.11.13"
  }
 },
 "nbformat": 4,
 "nbformat_minor": 5
}
