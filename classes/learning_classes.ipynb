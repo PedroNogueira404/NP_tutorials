{
 "cells": [
  {
   "cell_type": "code",
   "execution_count": 28,
   "id": "d2e54ba1",
   "metadata": {},
   "outputs": [],
   "source": [
    "class Car:\n",
    "    def __init__(self, brand, model):\n",
    "        self.brand = brand  # property\n",
    "        self.model = model  # property\n",
    "\n",
    "    def drive(self):  # method\n",
    "        print(f\"The {self.brand} {self.model} is driving!\")"
   ]
  },
  {
   "cell_type": "markdown",
   "id": "6fc45b44",
   "metadata": {},
   "source": []
  },
  {
   "cell_type": "markdown",
   "id": "05bc315e",
   "metadata": {},
   "source": [
    "__init__ is a constructor. It runs when you create a new object.\n",
    "\n",
    "self refers to the current object.\n",
    "\n",
    "brand and model are properties.\n",
    "\n",
    "drive() is a method."
   ]
  },
  {
   "cell_type": "code",
   "execution_count": 17,
   "id": "abf6bb27",
   "metadata": {},
   "outputs": [],
   "source": [
    "my_car = Car(\"Toyota\", \"Corolla\")\n",
    "your_car = Car(\"Tesla\", \"Model 3\")"
   ]
  },
  {
   "cell_type": "code",
   "execution_count": 18,
   "id": "567489b1",
   "metadata": {},
   "outputs": [],
   "source": [
    "#Car(\"loca\",\"bunda\")"
   ]
  },
  {
   "cell_type": "code",
   "execution_count": 19,
   "id": "45fd9525",
   "metadata": {},
   "outputs": [
    {
     "name": "stdout",
     "output_type": "stream",
     "text": [
      "The Toyota Corolla is driving!\n",
      "The Tesla Model 3 is driving!\n"
     ]
    }
   ],
   "source": [
    "my_car.drive()     # Output: The Toyota Corolla is driving!\n",
    "your_car.drive()   # Output: The Tesla Model 3 is driving!"
   ]
  },
  {
   "cell_type": "code",
   "execution_count": 20,
   "id": "d3d76eaa",
   "metadata": {},
   "outputs": [],
   "source": [
    "def honk(self):\n",
    "    print(\"Beep beep!\")"
   ]
  },
  {
   "cell_type": "code",
   "execution_count": 21,
   "id": "bb196018",
   "metadata": {},
   "outputs": [
    {
     "data": {
      "text/plain": [
       "<function __main__.honk(self)>"
      ]
     },
     "execution_count": 21,
     "metadata": {},
     "output_type": "execute_result"
    }
   ],
   "source": [
    "honk"
   ]
  },
  {
   "cell_type": "code",
   "execution_count": 22,
   "id": "9e7b96c5",
   "metadata": {},
   "outputs": [
    {
     "name": "stdout",
     "output_type": "stream",
     "text": [
      "The Toyota Corolla is driving!\n",
      "Beep beep!\n"
     ]
    }
   ],
   "source": [
    "honk(my_car.drive())"
   ]
  },
  {
   "cell_type": "code",
   "execution_count": 23,
   "id": "18cee560",
   "metadata": {},
   "outputs": [],
   "source": [
    "class Car:\n",
    "    def __init__(self, brand, model):\n",
    "        self.brand = brand  # property\n",
    "        self.model = model  # property\n",
    "\n",
    "    def drive(self):  # method\n",
    "        print(f\"The {self.brand} {self.model} is driving!\")\n",
    "    \n",
    "    def honk(self):\n",
    "        print(\"Beep beep!\")"
   ]
  },
  {
   "cell_type": "code",
   "execution_count": 24,
   "id": "83013549",
   "metadata": {},
   "outputs": [
    {
     "name": "stdout",
     "output_type": "stream",
     "text": [
      "The Ford Focus is driving!\n",
      "Beep beep!\n"
     ]
    }
   ],
   "source": [
    "car = Car(\"Ford\", \"Focus\")\n",
    "car.drive()\n",
    "car.honk()"
   ]
  },
  {
   "cell_type": "markdown",
   "id": "5cbfe22c",
   "metadata": {},
   "source": [
    "O que aprendi:\n",
    "\n",
    "Criar uma classe para sempre poder usar as funções de dentro"
   ]
  },
  {
   "cell_type": "code",
   "execution_count": 26,
   "id": "1bd6c9e8",
   "metadata": {},
   "outputs": [
    {
     "name": "stdout",
     "output_type": "stream",
     "text": [
      "Deposited $50 to Alice's account.\n",
      "Withdrew $30 from Alice's account.\n",
      "Alice's balance: $120\n",
      "Deposited $200 to Bob's account.\n",
      "Insufficient funds.\n",
      "Bob's account at PyBank, Balance: $200\n"
     ]
    }
   ],
   "source": [
    "class BankAccount:\n",
    "    # class variable: shared across all accounts\n",
    "    bank_name = \"PyBank\"\n",
    "\n",
    "    def __init__(self, owner, balance=0):\n",
    "        self.owner = owner          # instance variable\n",
    "        self.balance = balance      # instance variable\n",
    "\n",
    "    def deposit(self, amount):\n",
    "        if amount > 0:\n",
    "            self.balance += amount\n",
    "            print(f\"Deposited ${amount} to {self.owner}'s account.\")\n",
    "        else:\n",
    "            print(\"Deposit must be positive.\")\n",
    "\n",
    "    def withdraw(self, amount):\n",
    "        if amount > self.balance:\n",
    "            print(\"Insufficient funds.\")\n",
    "        else:\n",
    "            self.balance -= amount\n",
    "            print(f\"Withdrew ${amount} from {self.owner}'s account.\")\n",
    "\n",
    "    def show_balance(self):\n",
    "        print(f\"{self.owner}'s balance: ${self.balance}\")\n",
    "\n",
    "    def __str__(self):\n",
    "        return f\"{self.owner}'s account at {BankAccount.bank_name}, Balance: ${self.balance}\"\n",
    "\n",
    "#🧪 Let’s Use It:\n",
    "\n",
    "acc1 = BankAccount(\"Alice\", 100)\n",
    "acc2 = BankAccount(\"Bob\")\n",
    "\n",
    "acc1.deposit(50)     # Deposited $50\n",
    "acc1.withdraw(30)    # Withdrew $30\n",
    "acc1.show_balance()  # Alice's balance: $120\n",
    "\n",
    "acc2.deposit(200)\n",
    "acc2.withdraw(250)   # Insufficient funds\n",
    "print(acc2)          # Bob's account at PyBank, Balance: $200"
   ]
  },
  {
   "cell_type": "code",
   "execution_count": null,
   "id": "91dbe712",
   "metadata": {},
   "outputs": [],
   "source": []
  },
  {
   "cell_type": "code",
   "execution_count": null,
   "id": "03478c2f",
   "metadata": {},
   "outputs": [],
   "source": []
  },
  {
   "cell_type": "code",
   "execution_count": null,
   "id": "d4c5a8c1",
   "metadata": {},
   "outputs": [],
   "source": []
  }
 ],
 "metadata": {
  "kernelspec": {
   "display_name": "base",
   "language": "python",
   "name": "python3"
  },
  "language_info": {
   "codemirror_mode": {
    "name": "ipython",
    "version": 3
   },
   "file_extension": ".py",
   "mimetype": "text/x-python",
   "name": "python",
   "nbconvert_exporter": "python",
   "pygments_lexer": "ipython3",
   "version": "3.12.4"
  }
 },
 "nbformat": 4,
 "nbformat_minor": 5
}
